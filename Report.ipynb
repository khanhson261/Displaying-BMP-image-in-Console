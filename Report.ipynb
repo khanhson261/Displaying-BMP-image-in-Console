{
  "nbformat": 4,
  "nbformat_minor": 0,
  "metadata": {
    "colab": {
      "name": "Report.ipynb",
      "provenance": [],
      "toc_visible": true,
      "include_colab_link": true
    },
    "kernelspec": {
      "name": "python3",
      "display_name": "Python 3"
    },
    "language_info": {
      "name": "python"
    }
  },
  "cells": [
    {
      "cell_type": "markdown",
      "metadata": {
        "id": "view-in-github",
        "colab_type": "text"
      },
      "source": [
        "<a href=\"https://colab.research.google.com/github/khanhson261/-Displaying-BMP-image-in-Console/blob/master/Report.ipynb\" target=\"_parent\"><img src=\"https://colab.research.google.com/assets/colab-badge.svg\" alt=\"Open In Colab\"/></a>"
      ]
    },
    {
      "cell_type": "markdown",
      "source": [
        "Thông tin của các thành viên trong nhóm:\n",
        "\n",
        "1712733 - Trần Phạm Khánh Sơn - [github](https://github.com/khanhson261)\n",
        "\n",
        "1712495 - Nguyễn Quang Huy - [github](https://github.com/qhuy4119)\n",
        "\n",
        "1712766 - Nguyễn Chí Thanh - [github](https://github.com/thanhchin)\n",
        "\n",
        "THÙNG CHỨA GITHUB:\n",
        "  \n",
        "Link github: https://github.com/khanhson261/DAMH_KHDLUD\n",
        "\n",
        "\n",
        "# MÔ TẢ BÀI TOÁN\n",
        "## Tổng quan\n",
        "- **Tên cuộc thi**: Restaurant Revenue Prediction\n",
        "\n",
        "- **Giới thiệu sơ lược về TFI**: \n",
        "  -\tVới hơn 1.200 nhà hàng phục vụ nhanh trên toàn cầu, TFI là công ty lớn, chỉ đứng sau một số thương hiệu nổi tiếng nhất thế giới: Burger King, Sbarro, Popeyes, Usta Donerci và Arby’s. TFI đã tuyển dụng hơn 20.000 nhân viên ở cả Châu Âu lẫn Châu Á và hiện vẫn đang đầu tư đáng kể vào việc phát triển và mở thêm các nhà hàng mới tại nhiều địa điểm.\n",
        "Vấn đề gặp phải:\n",
        "  -\tHiện tại, quyết định mở và đầu tư vào nhà hàng mới khi nào và ở đâu phần lớn là một quá trình chủ quan dựa trên đánh giá cá nhân và kinh nghiệm của các nhóm phát triển. Nguồn dữ liệu chủ quan này rất khó để có thể ngoại suy và đưa ra quyết định với độ chính xác cao do nhiều yếu tố như khu vực địa lý, văn hóa, …\n",
        "  -\tKhông chỉ vậy, việc mở và đầu tư một nhà hàng đòi hỏi một lượng lớn về thời gian và tiền bạc để có thể thiết lập và vận hành. Do đó, khi chọn sai địa điểm để đầu tư mở một nhà hàng, địa điểm này khả năng rất cao là sẽ phải đóng cửa trong vòng khoảng 18 tháng sau khi đi vào hoạt động và phát sinh rất nhiều tổn thất cho hoạt động kinh doanh của TFI.\n",
        "Yêu cầu cần giải quyết:\n",
        "  -\tViệc tìm ra một mô hình máy học có thể dự đoán doanh thu của một nhà hàng tại một địa điểm nào đó là rất cần thiết, đóng vai trò quan trọng trong việc tăng hiệu quả đầu tư cho TFI. Bên cạnh đó, việc đầu tư hiệu quả cho việc mở nhà hàng cũng sẽ đồng thời cho phép TFI có thể có đủ nguồn kinh tế để đầu tư nhiều hơn vào các lĩnh vực kinh doanh quan trọng khác, như tăng tính bền vững của các nhà hàng, đổi mới và đào tạo cho nhân viên mới, … Trong cuộc thi này, chúng ta sẽ sử dụng dữ liệu nhân khẩu học, bất động sản và thương mại để xây dựng nên một mô hình máy học dự đoán doanh số nhà hàng hàng năm của 100.000 địa điểm trong nhiều khu vực.\n",
        "Phương thức tính điểm trên Kaggle của cuộc thi: Root Mean Square Error. \n",
        "\n",
        "- **Input**: TFI đã cung cấp bộ dữ liệu với 137 nhà hàng trong tập train và 100000 nhà hàng trong tập test. Các cột dữ liệu bao gồm ngày mở cửa (open date), vị trí (location), loại thành phố (city type) và ba loại dữ liệu xáo trộn: Dữ liệu nhân khẩu học (Demographic data), Dữ liệu bất động sản (Real estate data) và Dữ liệu thương mại (Commercial data). Cột doanh thu (revenue) cho biết doanh thu (đã chuyển đổi) của các nhà hàng trong một năm nhất định và đây cũng chính là mục tiêu của phân tích dự đoán trong cuộc thi này.\n",
        "\n",
        "- **Output**: Doanh thu của các nhà hàng trong một năm nhất định.\n",
        "\n",
        "Lưu ý kèm theo: Kaggle đã thêm khoảng 311,5 điểm dữ liệu \"giả\" vào bài kiểm tra cho mỗi điểm dữ liệu thực. Chia cho số này sẽ cho số liệu chính xác hơn của dữ liệu \"thực\" trong tập thử nghiệm.\n",
        "\n",
        "- **Prize**: $ 30000.\n",
        "\n",
        "- **Participants**: 2257 teams.\n",
        "\n",
        "- **Link Kaggle**: https://www.kaggle.com/competitions/restaurant-revenue-prediction\n",
        "\n",
        "## Solution\n",
        "Trong đồ án thực hiện lần này, nhóm đã tìm hiểu và cài đặt lại phương pháp nằm trong top 10 Private Leaderboard.\n",
        "\n",
        "Xếp hạng solution: Top 5 Private Leaderboard với score = 1745878.25648\n",
        "\n",
        "Tác giả: Team FireFly, bài tham khảo là một phiên bản có sửa đổi rất ít của Ben Solecki and Lin Li.\n",
        "\n",
        "Thời gian: Tháng 5 năm 2015.\n",
        "\n",
        "Link Solution: https://github.com/bensolucky/TFI\n",
        "\n",
        "### Phân tích sơ lược tập dữ liệu:\n",
        "Như đã nêu ở trên, tập dữ liệu chúng ta sẽ bao gồm có 1 tập train và 1 tập test. Ngoài ra, còn có 1 tập sampleSubmission.csv được bên điều hành cuộc thi thêm vào để cho người tham dự biết được cấu trúc nộp bài dự thi mà nhà điều hành mong muốn là như thế nào.\n",
        "Sau khi quan sát tập dữ liệu, nhóm rút ra được nhận xét như sau: Tập huấn luyện được cung cấp có khá ít dòng (137 dòng). Mỗi dòng sẽ mô tả một nhà hàng ở Thổ Nhĩ Kỳ do TFI Foods điều hành. Hầu hết các thông tin mà TFI Foods cung cấp đều đã được ẩn danh và được gắn nhãn từ P1 đến P38. Các dữ liệu này có vẻ như có tính phân loại. Có một số cột được mô tả cụ thể hơn, chẳng hạn như ngày khai trương (open date), loại nhà hàng (type) và thành phố (city). Tập train bao gồm 100.000 dòng, nhưng trên thực tế, hầu hết các dòng này được tạo ra bởi Kaggle một cách tự động và có vẻ không thực sự mang ý nghĩa thực tiễn. Theo như tác giả cũng như một số nhóm tham gia khác trong cuộc thi, họ xác định rằng tập test trên thực tế chỉ có 321 hàng. Mục tiêu là dự đoán doanh thu của nhà hàng. Chỉ số cho điểm là RMSE (lỗi bình phương trung bình gốc), rất nhạy cảm với các giá trị ngoại lệ, đặc biệt là trên một tập hợp trainng nhỏ như đã cho trong đề. Vì vậy, chiến lược chung của thuật toán máy học mà tác giả xây dựng là chỉ sử dụng các kỹ thuật tiền xử lý và mô hình hóa đơn giản nhất và tốt nhất, đồng thời tìm cách tránh tối đa overfitting.\n",
        "Ý nghĩa của các cột dữ liệu trong tập train và test:\n",
        "-\t```Id```: Id nhà hàng.\n",
        "-\t```Open Date```: ngày khai trương nhà hàng.\n",
        "-\t```City```: Thành phố mà nhà hàng đang đặt. Lưu ý rằng có unicode trong tên.\n",
        "-\t```City Group```: Loại thành phố. Bao gồm loại thành phố lớn và loại Khác.\n",
        "- ```Type```: Loại hình nhà hàng. Bao gồm:\n",
        "  * ```FC```: Khu ăn uống.\n",
        "  * ```IL```: Nội tuyến.\n",
        "  * ```DT```: Drive Thru (tức là bán đồ ăn mang đi, người mua thường sẽ ngồi trên ô tô, đặt món và nhận đồ ăn qua cửa kính ô tô, sau đó sẽ lái xe đi mà không cần xuống xe).\n",
        "  * ```MB```: Di động.\n",
        "-\t```P1, P2 đến P37```: Có ba loại dữ liệu xáo trộn trong các cột này. Dữ liệu nhân khẩu học được thu thập từ các nhà cung cấp bên thứ ba có hệ thống GIS. Các dữ liệu này bao gồm dân số ở bất kỳ khu vực nhất định nào, phân bố theo độ tuổi và giới tính, quy mô phát triển. Dữ liệu bất động sản chủ yếu liên quan đến diện tích (đơn vị m2) của vị trí, mặt tiền của vị trí, chỗ đậu xe ô tô. Dữ liệu thương mại chủ yếu bao gồm sự tồn tại của các điểm chiến lược xung quanh nơi đặt nhà hàng, bao gồm trường học, ngân hàng, các nhà khai thác QSR khác.\n",
        "-\t```Revenue```: Cột doanh thu cho biết doanh thu (đã chuyển đổi) của nhà hàng trong một năm nhất định và là mục tiêu của phân tích dự đoán. Cần lưu ý rằng các giá trị được chuyển đổi để chúng không có nghĩa là giá trị đô la thực.\n",
        "\n",
        "### Quá trình thực hiện giải cơ bản:\n",
        "1.\tKhám phá dữ liệu.\n",
        "2.\tTiền xử lý dữ liệu (bao gồm việc định dạng lại một số cột, xử lý null, xử lý outlier, …).\n",
        "3.\tBiến đổi dữ liệu (Ưu tiên sử dụng các phép biến đổi đơn giản như đã nói ở trên, chủ yếu là chuyển các cột dạng categorical về numeric).\n",
        "4.\tHuấn luyện các mô hình tiềm năng trên tập train.\n",
        "5.\tĐánh giá và lựa chọn xây dựng mô hình. Ở đây, mô hình được chọn là Ridge Regression vì mô hình này có khả năng thích ứng tốt với dữ liệu dễ bị overfitting và như đã nói ở trên, khi mà dữ liệu của tập train nhỏ thì đơn giản nhất thường sẽ là lựa chọn tốt nhất. Tác giả cũng đã có thử qua các mô hình khác như là SVR, Random Forest, K-nearest Neighbors, … nhưng Ridge Regression đã cho ra được kết quả tốt nhất.\n",
        "\n"
      ],
      "metadata": {
        "id": "e9_3rqhreWAE"
      }
    },
    {
      "cell_type": "markdown",
      "source": [
        "# *GIẢI QUYẾT BÀI TOÁN*"
      ],
      "metadata": {
        "id": "RodFhScoICgK"
      }
    },
    {
      "cell_type": "markdown",
      "source": [
        "# **Chuẩn Bị Dữ Liệu**"
      ],
      "metadata": {
        "id": "JeuA2U40WNSQ"
      }
    },
    {
      "cell_type": "markdown",
      "source": [
        "## 1. Import các thư viện cần thiết cho quá trình cài đặt bài toán"
      ],
      "metadata": {
        "id": "T3KnJrpcIdLv"
      }
    },
    {
      "cell_type": "code",
      "source": [
        "import pandas as pd\n",
        "import numpy as np\n",
        "import matplotlib.pyplot as plt\n",
        "import datetime\n",
        "\n",
        "from matplotlib import pylab\n",
        "\n",
        "from sklearn.model_selection import LeaveOneOut\n",
        "from sklearn.model_selection import (GridSearchCV, RandomizedSearchCV)\n",
        "from sklearn.metrics import (mean_squared_error, mean_absolute_error)\n",
        "from sklearn.preprocessing import MinMaxScaler\n",
        "from sklearn.ensemble import ExtraTreesClassifier \n",
        "\n",
        "from sklearn.svm import SVR  \n",
        "from sklearn.neighbors import KNeighborsRegressor\n",
        "from sklearn.linear_model import Ridge"
      ],
      "metadata": {
        "id": "JT_op3jhIYCG"
      },
      "execution_count": null,
      "outputs": []
    },
    {
      "cell_type": "markdown",
      "source": [
        "## 2. Download các file data của bài toán"
      ],
      "metadata": {
        "id": "Pu55ZFg7IqHe"
      }
    },
    {
      "cell_type": "markdown",
      "source": [
        "Ta sẽ tiến hành tải các file này trực tiếp từ GG Drive. Ở đây chúng ta có 2 file data là train.csv và test.csv"
      ],
      "metadata": {
        "id": "6vbQTtexS-J3"
      }
    },
    {
      "cell_type": "code",
      "source": [
        "!gdown --id 1PJnc3epkHA9m2o151VXW5L62L_0tweed   #tải file test.csv\n",
        "!gdown --id 1wP_PvhXP_nfN6qe28z96XiADzGCwJB9L   #tải file train.csv"
      ],
      "metadata": {
        "colab": {
          "base_uri": "https://localhost:8080/"
        },
        "id": "jGOnDmm1I5w_",
        "outputId": "c784239e-e5c6-4ceb-890f-5fb8938aa645"
      },
      "execution_count": null,
      "outputs": [
        {
          "output_type": "stream",
          "name": "stdout",
          "text": [
            "/usr/local/lib/python3.7/dist-packages/gdown/cli.py:131: FutureWarning: Option `--id` was deprecated in version 4.3.1 and will be removed in 5.0. You don't need to pass it anymore to use a file ID.\n",
            "  category=FutureWarning,\n",
            "Downloading...\n",
            "From: https://drive.google.com/uc?id=1PJnc3epkHA9m2o151VXW5L62L_0tweed\n",
            "To: /content/test.csv\n",
            "100% 12.8M/12.8M [00:00<00:00, 44.2MB/s]\n",
            "/usr/local/lib/python3.7/dist-packages/gdown/cli.py:131: FutureWarning: Option `--id` was deprecated in version 4.3.1 and will be removed in 5.0. You don't need to pass it anymore to use a file ID.\n",
            "  category=FutureWarning,\n",
            "Downloading...\n",
            "From: https://drive.google.com/uc?id=1wP_PvhXP_nfN6qe28z96XiADzGCwJB9L\n",
            "To: /content/train.csv\n",
            "100% 18.9k/18.9k [00:00<00:00, 24.3MB/s]\n"
          ]
        }
      ]
    },
    {
      "cell_type": "markdown",
      "source": [
        "## 3. Đọc các tệp dữ liệu train.csv và test.csv"
      ],
      "metadata": {
        "id": "Ht-1pZu9Kmvr"
      }
    },
    {
      "cell_type": "markdown",
      "source": [
        "Đọc data train từ file train.csv và data test từ file test.csv"
      ],
      "metadata": {
        "id": "bKoHMQ-lTT4L"
      }
    },
    {
      "cell_type": "code",
      "source": [
        "train = pd.read_csv('train.csv', index_col = 0, parse_dates=[1])   \n",
        "test = pd.read_csv('test.csv', index_col = 0, parse_dates=[1])      "
      ],
      "metadata": {
        "id": "klSV6f5IQ5jm"
      },
      "execution_count": null,
      "outputs": []
    },
    {
      "cell_type": "markdown",
      "source": [
        "Xem các chiều của tập train và test. Từ kết quả, ta thấy được tập train có 137 dòng dữ liệu và có 42 cột (trường) dữ liệu, tập test bao gồm 100000 dòng dữ liệu và có 41 cột (trường) dữ liệu (do đây là tập test nên không có trường revenue)"
      ],
      "metadata": {
        "id": "OEy60oetTgo7"
      }
    },
    {
      "cell_type": "code",
      "source": [
        "print (\"Train Dimensions:\")\n",
        "print (train.shape)           # Hàm shpe trả ra chiều của tập train\n",
        "print (\"Test Dimensions:\")\n",
        "print (test.shape)            # Hàm shape trả ra chiều của tập test"
      ],
      "metadata": {
        "colab": {
          "base_uri": "https://localhost:8080/"
        },
        "id": "akaxtSbZTe0T",
        "outputId": "b5b6c00e-444d-4ddf-a6f0-cc456385a46d"
      },
      "execution_count": null,
      "outputs": [
        {
          "output_type": "stream",
          "name": "stdout",
          "text": [
            "Train Dimensions:\n",
            "(137, 42)\n",
            "Test Dimensions:\n",
            "(100000, 41)\n"
          ]
        }
      ]
    },
    {
      "cell_type": "markdown",
      "source": [
        "## 4. Kết hợp tập train và test\n",
        "\n"
      ],
      "metadata": {
        "id": "LMRTR8GOTIM0"
      }
    },
    {
      "cell_type": "markdown",
      "source": [
        "Ta sẽ kết hợp 2 tập train và test lại với nhau để thuận tiện cho việc tiến hành các bước tiền xử lý dữ liệu tiếp theo"
      ],
      "metadata": {
        "id": "jDRbIvCRT-6y"
      }
    },
    {
      "cell_type": "code",
      "source": [
        "df = pd.concat((test, train), ignore_index=True)    #Dùng hàm concat để tiến hành kết hợp\n",
        "df.describe()                                       #Hàm describe để trả ra các thông số thống kê cơ bản của tập dữ liệu mà ta vừa gom"
      ],
      "metadata": {
        "colab": {
          "base_uri": "https://localhost:8080/",
          "height": 393
        },
        "id": "sUwR-DXsULW0",
        "outputId": "9855d2d3-13fb-45d9-aa5c-f35086eab88b"
      },
      "execution_count": null,
      "outputs": [
        {
          "output_type": "execute_result",
          "data": {
            "text/plain": [
              "                  P1             P2             P3             P4  \\\n",
              "count  100137.000000  100137.000000  100137.000000  100137.000000   \n",
              "mean        4.087930       4.428059       4.215465       4.395992   \n",
              "std         2.813085       1.428979       0.842452       1.035796   \n",
              "min         1.000000       1.000000       0.000000       2.000000   \n",
              "25%         2.000000       4.000000       4.000000       4.000000   \n",
              "50%         3.000000       5.000000       4.000000       4.000000   \n",
              "75%         4.000000       5.000000       4.000000       5.000000   \n",
              "max        15.000000       7.500000       7.500000       7.500000   \n",
              "\n",
              "                  P5             P6             P7             P8  \\\n",
              "count  100137.000000  100137.000000  100137.000000  100137.000000   \n",
              "mean        1.989614       2.882551       5.300678       4.931304   \n",
              "std         1.065518       1.532502       2.178739       1.718699   \n",
              "min         1.000000       1.000000       1.000000       1.000000   \n",
              "25%         1.000000       2.000000       5.000000       4.000000   \n",
              "50%         2.000000       2.000000       5.000000       5.000000   \n",
              "75%         2.000000       4.000000       5.000000       5.000000   \n",
              "max         8.000000      10.000000      10.000000      10.000000   \n",
              "\n",
              "                  P9            P10  ...            P29            P30  \\\n",
              "count  100137.000000  100137.000000  ...  100137.000000  100137.000000   \n",
              "mean        5.251645       5.459011  ...       3.084070       2.084185   \n",
              "std         1.702825       1.763709  ...       1.783783       4.311427   \n",
              "min         4.000000       4.000000  ...       0.000000       0.000000   \n",
              "25%         4.000000       5.000000  ...       2.000000       0.000000   \n",
              "50%         5.000000       5.000000  ...       3.000000       0.000000   \n",
              "75%         5.000000       5.000000  ...       3.000000       3.000000   \n",
              "max        10.000000      10.000000  ...      10.000000      25.000000   \n",
              "\n",
              "                 P31            P32            P33            P34  \\\n",
              "count  100137.000000  100137.000000  100137.000000  100137.000000   \n",
              "mean        1.194354       1.943437       0.987637       2.109190   \n",
              "std         2.310159       3.973317       1.535045       4.686096   \n",
              "min         0.000000       0.000000       0.000000       0.000000   \n",
              "25%         0.000000       0.000000       0.000000       0.000000   \n",
              "50%         0.000000       0.000000       0.000000       0.000000   \n",
              "75%         1.000000       3.000000       2.000000       3.000000   \n",
              "max        15.000000      25.000000       6.000000      30.000000   \n",
              "\n",
              "                 P35            P36            P37       revenue  \n",
              "count  100137.000000  100137.000000  100137.000000  1.370000e+02  \n",
              "mean        1.833099       1.969222       0.973696  4.453533e+06  \n",
              "std         3.229052       3.806280       1.677427  2.576072e+06  \n",
              "min         0.000000       0.000000       0.000000  1.149870e+06  \n",
              "25%         0.000000       0.000000       0.000000  2.999068e+06  \n",
              "50%         0.000000       0.000000       0.000000  3.939804e+06  \n",
              "75%         4.000000       3.000000       2.000000  5.166635e+06  \n",
              "max        15.000000      20.000000       8.000000  1.969694e+07  \n",
              "\n",
              "[8 rows x 38 columns]"
            ],
            "text/html": [
              "\n",
              "  <div id=\"df-17f96291-cbb7-4b50-b024-c7049690e5ef\">\n",
              "    <div class=\"colab-df-container\">\n",
              "      <div>\n",
              "<style scoped>\n",
              "    .dataframe tbody tr th:only-of-type {\n",
              "        vertical-align: middle;\n",
              "    }\n",
              "\n",
              "    .dataframe tbody tr th {\n",
              "        vertical-align: top;\n",
              "    }\n",
              "\n",
              "    .dataframe thead th {\n",
              "        text-align: right;\n",
              "    }\n",
              "</style>\n",
              "<table border=\"1\" class=\"dataframe\">\n",
              "  <thead>\n",
              "    <tr style=\"text-align: right;\">\n",
              "      <th></th>\n",
              "      <th>P1</th>\n",
              "      <th>P2</th>\n",
              "      <th>P3</th>\n",
              "      <th>P4</th>\n",
              "      <th>P5</th>\n",
              "      <th>P6</th>\n",
              "      <th>P7</th>\n",
              "      <th>P8</th>\n",
              "      <th>P9</th>\n",
              "      <th>P10</th>\n",
              "      <th>...</th>\n",
              "      <th>P29</th>\n",
              "      <th>P30</th>\n",
              "      <th>P31</th>\n",
              "      <th>P32</th>\n",
              "      <th>P33</th>\n",
              "      <th>P34</th>\n",
              "      <th>P35</th>\n",
              "      <th>P36</th>\n",
              "      <th>P37</th>\n",
              "      <th>revenue</th>\n",
              "    </tr>\n",
              "  </thead>\n",
              "  <tbody>\n",
              "    <tr>\n",
              "      <th>count</th>\n",
              "      <td>100137.000000</td>\n",
              "      <td>100137.000000</td>\n",
              "      <td>100137.000000</td>\n",
              "      <td>100137.000000</td>\n",
              "      <td>100137.000000</td>\n",
              "      <td>100137.000000</td>\n",
              "      <td>100137.000000</td>\n",
              "      <td>100137.000000</td>\n",
              "      <td>100137.000000</td>\n",
              "      <td>100137.000000</td>\n",
              "      <td>...</td>\n",
              "      <td>100137.000000</td>\n",
              "      <td>100137.000000</td>\n",
              "      <td>100137.000000</td>\n",
              "      <td>100137.000000</td>\n",
              "      <td>100137.000000</td>\n",
              "      <td>100137.000000</td>\n",
              "      <td>100137.000000</td>\n",
              "      <td>100137.000000</td>\n",
              "      <td>100137.000000</td>\n",
              "      <td>1.370000e+02</td>\n",
              "    </tr>\n",
              "    <tr>\n",
              "      <th>mean</th>\n",
              "      <td>4.087930</td>\n",
              "      <td>4.428059</td>\n",
              "      <td>4.215465</td>\n",
              "      <td>4.395992</td>\n",
              "      <td>1.989614</td>\n",
              "      <td>2.882551</td>\n",
              "      <td>5.300678</td>\n",
              "      <td>4.931304</td>\n",
              "      <td>5.251645</td>\n",
              "      <td>5.459011</td>\n",
              "      <td>...</td>\n",
              "      <td>3.084070</td>\n",
              "      <td>2.084185</td>\n",
              "      <td>1.194354</td>\n",
              "      <td>1.943437</td>\n",
              "      <td>0.987637</td>\n",
              "      <td>2.109190</td>\n",
              "      <td>1.833099</td>\n",
              "      <td>1.969222</td>\n",
              "      <td>0.973696</td>\n",
              "      <td>4.453533e+06</td>\n",
              "    </tr>\n",
              "    <tr>\n",
              "      <th>std</th>\n",
              "      <td>2.813085</td>\n",
              "      <td>1.428979</td>\n",
              "      <td>0.842452</td>\n",
              "      <td>1.035796</td>\n",
              "      <td>1.065518</td>\n",
              "      <td>1.532502</td>\n",
              "      <td>2.178739</td>\n",
              "      <td>1.718699</td>\n",
              "      <td>1.702825</td>\n",
              "      <td>1.763709</td>\n",
              "      <td>...</td>\n",
              "      <td>1.783783</td>\n",
              "      <td>4.311427</td>\n",
              "      <td>2.310159</td>\n",
              "      <td>3.973317</td>\n",
              "      <td>1.535045</td>\n",
              "      <td>4.686096</td>\n",
              "      <td>3.229052</td>\n",
              "      <td>3.806280</td>\n",
              "      <td>1.677427</td>\n",
              "      <td>2.576072e+06</td>\n",
              "    </tr>\n",
              "    <tr>\n",
              "      <th>min</th>\n",
              "      <td>1.000000</td>\n",
              "      <td>1.000000</td>\n",
              "      <td>0.000000</td>\n",
              "      <td>2.000000</td>\n",
              "      <td>1.000000</td>\n",
              "      <td>1.000000</td>\n",
              "      <td>1.000000</td>\n",
              "      <td>1.000000</td>\n",
              "      <td>4.000000</td>\n",
              "      <td>4.000000</td>\n",
              "      <td>...</td>\n",
              "      <td>0.000000</td>\n",
              "      <td>0.000000</td>\n",
              "      <td>0.000000</td>\n",
              "      <td>0.000000</td>\n",
              "      <td>0.000000</td>\n",
              "      <td>0.000000</td>\n",
              "      <td>0.000000</td>\n",
              "      <td>0.000000</td>\n",
              "      <td>0.000000</td>\n",
              "      <td>1.149870e+06</td>\n",
              "    </tr>\n",
              "    <tr>\n",
              "      <th>25%</th>\n",
              "      <td>2.000000</td>\n",
              "      <td>4.000000</td>\n",
              "      <td>4.000000</td>\n",
              "      <td>4.000000</td>\n",
              "      <td>1.000000</td>\n",
              "      <td>2.000000</td>\n",
              "      <td>5.000000</td>\n",
              "      <td>4.000000</td>\n",
              "      <td>4.000000</td>\n",
              "      <td>5.000000</td>\n",
              "      <td>...</td>\n",
              "      <td>2.000000</td>\n",
              "      <td>0.000000</td>\n",
              "      <td>0.000000</td>\n",
              "      <td>0.000000</td>\n",
              "      <td>0.000000</td>\n",
              "      <td>0.000000</td>\n",
              "      <td>0.000000</td>\n",
              "      <td>0.000000</td>\n",
              "      <td>0.000000</td>\n",
              "      <td>2.999068e+06</td>\n",
              "    </tr>\n",
              "    <tr>\n",
              "      <th>50%</th>\n",
              "      <td>3.000000</td>\n",
              "      <td>5.000000</td>\n",
              "      <td>4.000000</td>\n",
              "      <td>4.000000</td>\n",
              "      <td>2.000000</td>\n",
              "      <td>2.000000</td>\n",
              "      <td>5.000000</td>\n",
              "      <td>5.000000</td>\n",
              "      <td>5.000000</td>\n",
              "      <td>5.000000</td>\n",
              "      <td>...</td>\n",
              "      <td>3.000000</td>\n",
              "      <td>0.000000</td>\n",
              "      <td>0.000000</td>\n",
              "      <td>0.000000</td>\n",
              "      <td>0.000000</td>\n",
              "      <td>0.000000</td>\n",
              "      <td>0.000000</td>\n",
              "      <td>0.000000</td>\n",
              "      <td>0.000000</td>\n",
              "      <td>3.939804e+06</td>\n",
              "    </tr>\n",
              "    <tr>\n",
              "      <th>75%</th>\n",
              "      <td>4.000000</td>\n",
              "      <td>5.000000</td>\n",
              "      <td>4.000000</td>\n",
              "      <td>5.000000</td>\n",
              "      <td>2.000000</td>\n",
              "      <td>4.000000</td>\n",
              "      <td>5.000000</td>\n",
              "      <td>5.000000</td>\n",
              "      <td>5.000000</td>\n",
              "      <td>5.000000</td>\n",
              "      <td>...</td>\n",
              "      <td>3.000000</td>\n",
              "      <td>3.000000</td>\n",
              "      <td>1.000000</td>\n",
              "      <td>3.000000</td>\n",
              "      <td>2.000000</td>\n",
              "      <td>3.000000</td>\n",
              "      <td>4.000000</td>\n",
              "      <td>3.000000</td>\n",
              "      <td>2.000000</td>\n",
              "      <td>5.166635e+06</td>\n",
              "    </tr>\n",
              "    <tr>\n",
              "      <th>max</th>\n",
              "      <td>15.000000</td>\n",
              "      <td>7.500000</td>\n",
              "      <td>7.500000</td>\n",
              "      <td>7.500000</td>\n",
              "      <td>8.000000</td>\n",
              "      <td>10.000000</td>\n",
              "      <td>10.000000</td>\n",
              "      <td>10.000000</td>\n",
              "      <td>10.000000</td>\n",
              "      <td>10.000000</td>\n",
              "      <td>...</td>\n",
              "      <td>10.000000</td>\n",
              "      <td>25.000000</td>\n",
              "      <td>15.000000</td>\n",
              "      <td>25.000000</td>\n",
              "      <td>6.000000</td>\n",
              "      <td>30.000000</td>\n",
              "      <td>15.000000</td>\n",
              "      <td>20.000000</td>\n",
              "      <td>8.000000</td>\n",
              "      <td>1.969694e+07</td>\n",
              "    </tr>\n",
              "  </tbody>\n",
              "</table>\n",
              "<p>8 rows × 38 columns</p>\n",
              "</div>\n",
              "      <button class=\"colab-df-convert\" onclick=\"convertToInteractive('df-17f96291-cbb7-4b50-b024-c7049690e5ef')\"\n",
              "              title=\"Convert this dataframe to an interactive table.\"\n",
              "              style=\"display:none;\">\n",
              "        \n",
              "  <svg xmlns=\"http://www.w3.org/2000/svg\" height=\"24px\"viewBox=\"0 0 24 24\"\n",
              "       width=\"24px\">\n",
              "    <path d=\"M0 0h24v24H0V0z\" fill=\"none\"/>\n",
              "    <path d=\"M18.56 5.44l.94 2.06.94-2.06 2.06-.94-2.06-.94-.94-2.06-.94 2.06-2.06.94zm-11 1L8.5 8.5l.94-2.06 2.06-.94-2.06-.94L8.5 2.5l-.94 2.06-2.06.94zm10 10l.94 2.06.94-2.06 2.06-.94-2.06-.94-.94-2.06-.94 2.06-2.06.94z\"/><path d=\"M17.41 7.96l-1.37-1.37c-.4-.4-.92-.59-1.43-.59-.52 0-1.04.2-1.43.59L10.3 9.45l-7.72 7.72c-.78.78-.78 2.05 0 2.83L4 21.41c.39.39.9.59 1.41.59.51 0 1.02-.2 1.41-.59l7.78-7.78 2.81-2.81c.8-.78.8-2.07 0-2.86zM5.41 20L4 18.59l7.72-7.72 1.47 1.35L5.41 20z\"/>\n",
              "  </svg>\n",
              "      </button>\n",
              "      \n",
              "  <style>\n",
              "    .colab-df-container {\n",
              "      display:flex;\n",
              "      flex-wrap:wrap;\n",
              "      gap: 12px;\n",
              "    }\n",
              "\n",
              "    .colab-df-convert {\n",
              "      background-color: #E8F0FE;\n",
              "      border: none;\n",
              "      border-radius: 50%;\n",
              "      cursor: pointer;\n",
              "      display: none;\n",
              "      fill: #1967D2;\n",
              "      height: 32px;\n",
              "      padding: 0 0 0 0;\n",
              "      width: 32px;\n",
              "    }\n",
              "\n",
              "    .colab-df-convert:hover {\n",
              "      background-color: #E2EBFA;\n",
              "      box-shadow: 0px 1px 2px rgba(60, 64, 67, 0.3), 0px 1px 3px 1px rgba(60, 64, 67, 0.15);\n",
              "      fill: #174EA6;\n",
              "    }\n",
              "\n",
              "    [theme=dark] .colab-df-convert {\n",
              "      background-color: #3B4455;\n",
              "      fill: #D2E3FC;\n",
              "    }\n",
              "\n",
              "    [theme=dark] .colab-df-convert:hover {\n",
              "      background-color: #434B5C;\n",
              "      box-shadow: 0px 1px 3px 1px rgba(0, 0, 0, 0.15);\n",
              "      filter: drop-shadow(0px 1px 2px rgba(0, 0, 0, 0.3));\n",
              "      fill: #FFFFFF;\n",
              "    }\n",
              "  </style>\n",
              "\n",
              "      <script>\n",
              "        const buttonEl =\n",
              "          document.querySelector('#df-17f96291-cbb7-4b50-b024-c7049690e5ef button.colab-df-convert');\n",
              "        buttonEl.style.display =\n",
              "          google.colab.kernel.accessAllowed ? 'block' : 'none';\n",
              "\n",
              "        async function convertToInteractive(key) {\n",
              "          const element = document.querySelector('#df-17f96291-cbb7-4b50-b024-c7049690e5ef');\n",
              "          const dataTable =\n",
              "            await google.colab.kernel.invokeFunction('convertToInteractive',\n",
              "                                                     [key], {});\n",
              "          if (!dataTable) return;\n",
              "\n",
              "          const docLinkHtml = 'Like what you see? Visit the ' +\n",
              "            '<a target=\"_blank\" href=https://colab.research.google.com/notebooks/data_table.ipynb>data table notebook</a>'\n",
              "            + ' to learn more about interactive tables.';\n",
              "          element.innerHTML = '';\n",
              "          dataTable['output_type'] = 'display_data';\n",
              "          await google.colab.output.renderOutput(dataTable, element);\n",
              "          const docLink = document.createElement('div');\n",
              "          docLink.innerHTML = docLinkHtml;\n",
              "          element.appendChild(docLink);\n",
              "        }\n",
              "      </script>\n",
              "    </div>\n",
              "  </div>\n",
              "  "
            ]
          },
          "metadata": {},
          "execution_count": 5
        }
      ]
    },
    {
      "cell_type": "markdown",
      "source": [
        "Kiểm tra lại xem dữ liệu đã được gộp thành công hay chưa"
      ],
      "metadata": {
        "id": "EUX3wmHSURrc"
      }
    },
    {
      "cell_type": "code",
      "source": [
        "print (df.shape)  #Hàm shape trả ra thông số về chiều của df \n",
        "df.head()         #Tò mò dùng hàm head để xem vài dòng đầu"
      ],
      "metadata": {
        "colab": {
          "base_uri": "https://localhost:8080/",
          "height": 421
        },
        "id": "eQQuBWQSUiEE",
        "outputId": "c1269fcc-8827-4de6-c466-dd7cb8eb02fb"
      },
      "execution_count": null,
      "outputs": [
        {
          "output_type": "stream",
          "name": "stdout",
          "text": [
            "(100137, 42)\n"
          ]
        },
        {
          "output_type": "execute_result",
          "data": {
            "text/plain": [
              "   Open Date            City  City Group Type  P1   P2   P3   P4  P5  P6  ...  \\\n",
              "0 2011-01-22           Niğde       Other   FC   1  4.0  4.0  4.0   1   2  ...   \n",
              "1 2011-03-18           Konya       Other   IL   3  4.0  4.0  4.0   2   2  ...   \n",
              "2 2013-10-30          Ankara  Big Cities   FC   3  4.0  4.0  4.0   2   2  ...   \n",
              "3 2013-05-06         Kocaeli       Other   IL   2  4.0  4.0  4.0   2   3  ...   \n",
              "4 2013-07-31  Afyonkarahisar       Other   FC   2  4.0  4.0  4.0   1   2  ...   \n",
              "\n",
              "   P29  P30  P31  P32  P33  P34  P35  P36  P37  revenue  \n",
              "0  3.0    0    0    0    0    0    0    0    0      NaN  \n",
              "1  3.0    0    0    0    0    0    0    0    0      NaN  \n",
              "2  3.0    0    0    0    0    0    0    0    0      NaN  \n",
              "3  3.0    0    4    0    0    0    0    0    0      NaN  \n",
              "4  3.0    0    0    0    0    0    0    0    0      NaN  \n",
              "\n",
              "[5 rows x 42 columns]"
            ],
            "text/html": [
              "\n",
              "  <div id=\"df-7749a86e-6c4f-41f1-b1c5-9a203de5e8f1\">\n",
              "    <div class=\"colab-df-container\">\n",
              "      <div>\n",
              "<style scoped>\n",
              "    .dataframe tbody tr th:only-of-type {\n",
              "        vertical-align: middle;\n",
              "    }\n",
              "\n",
              "    .dataframe tbody tr th {\n",
              "        vertical-align: top;\n",
              "    }\n",
              "\n",
              "    .dataframe thead th {\n",
              "        text-align: right;\n",
              "    }\n",
              "</style>\n",
              "<table border=\"1\" class=\"dataframe\">\n",
              "  <thead>\n",
              "    <tr style=\"text-align: right;\">\n",
              "      <th></th>\n",
              "      <th>Open Date</th>\n",
              "      <th>City</th>\n",
              "      <th>City Group</th>\n",
              "      <th>Type</th>\n",
              "      <th>P1</th>\n",
              "      <th>P2</th>\n",
              "      <th>P3</th>\n",
              "      <th>P4</th>\n",
              "      <th>P5</th>\n",
              "      <th>P6</th>\n",
              "      <th>...</th>\n",
              "      <th>P29</th>\n",
              "      <th>P30</th>\n",
              "      <th>P31</th>\n",
              "      <th>P32</th>\n",
              "      <th>P33</th>\n",
              "      <th>P34</th>\n",
              "      <th>P35</th>\n",
              "      <th>P36</th>\n",
              "      <th>P37</th>\n",
              "      <th>revenue</th>\n",
              "    </tr>\n",
              "  </thead>\n",
              "  <tbody>\n",
              "    <tr>\n",
              "      <th>0</th>\n",
              "      <td>2011-01-22</td>\n",
              "      <td>Niğde</td>\n",
              "      <td>Other</td>\n",
              "      <td>FC</td>\n",
              "      <td>1</td>\n",
              "      <td>4.0</td>\n",
              "      <td>4.0</td>\n",
              "      <td>4.0</td>\n",
              "      <td>1</td>\n",
              "      <td>2</td>\n",
              "      <td>...</td>\n",
              "      <td>3.0</td>\n",
              "      <td>0</td>\n",
              "      <td>0</td>\n",
              "      <td>0</td>\n",
              "      <td>0</td>\n",
              "      <td>0</td>\n",
              "      <td>0</td>\n",
              "      <td>0</td>\n",
              "      <td>0</td>\n",
              "      <td>NaN</td>\n",
              "    </tr>\n",
              "    <tr>\n",
              "      <th>1</th>\n",
              "      <td>2011-03-18</td>\n",
              "      <td>Konya</td>\n",
              "      <td>Other</td>\n",
              "      <td>IL</td>\n",
              "      <td>3</td>\n",
              "      <td>4.0</td>\n",
              "      <td>4.0</td>\n",
              "      <td>4.0</td>\n",
              "      <td>2</td>\n",
              "      <td>2</td>\n",
              "      <td>...</td>\n",
              "      <td>3.0</td>\n",
              "      <td>0</td>\n",
              "      <td>0</td>\n",
              "      <td>0</td>\n",
              "      <td>0</td>\n",
              "      <td>0</td>\n",
              "      <td>0</td>\n",
              "      <td>0</td>\n",
              "      <td>0</td>\n",
              "      <td>NaN</td>\n",
              "    </tr>\n",
              "    <tr>\n",
              "      <th>2</th>\n",
              "      <td>2013-10-30</td>\n",
              "      <td>Ankara</td>\n",
              "      <td>Big Cities</td>\n",
              "      <td>FC</td>\n",
              "      <td>3</td>\n",
              "      <td>4.0</td>\n",
              "      <td>4.0</td>\n",
              "      <td>4.0</td>\n",
              "      <td>2</td>\n",
              "      <td>2</td>\n",
              "      <td>...</td>\n",
              "      <td>3.0</td>\n",
              "      <td>0</td>\n",
              "      <td>0</td>\n",
              "      <td>0</td>\n",
              "      <td>0</td>\n",
              "      <td>0</td>\n",
              "      <td>0</td>\n",
              "      <td>0</td>\n",
              "      <td>0</td>\n",
              "      <td>NaN</td>\n",
              "    </tr>\n",
              "    <tr>\n",
              "      <th>3</th>\n",
              "      <td>2013-05-06</td>\n",
              "      <td>Kocaeli</td>\n",
              "      <td>Other</td>\n",
              "      <td>IL</td>\n",
              "      <td>2</td>\n",
              "      <td>4.0</td>\n",
              "      <td>4.0</td>\n",
              "      <td>4.0</td>\n",
              "      <td>2</td>\n",
              "      <td>3</td>\n",
              "      <td>...</td>\n",
              "      <td>3.0</td>\n",
              "      <td>0</td>\n",
              "      <td>4</td>\n",
              "      <td>0</td>\n",
              "      <td>0</td>\n",
              "      <td>0</td>\n",
              "      <td>0</td>\n",
              "      <td>0</td>\n",
              "      <td>0</td>\n",
              "      <td>NaN</td>\n",
              "    </tr>\n",
              "    <tr>\n",
              "      <th>4</th>\n",
              "      <td>2013-07-31</td>\n",
              "      <td>Afyonkarahisar</td>\n",
              "      <td>Other</td>\n",
              "      <td>FC</td>\n",
              "      <td>2</td>\n",
              "      <td>4.0</td>\n",
              "      <td>4.0</td>\n",
              "      <td>4.0</td>\n",
              "      <td>1</td>\n",
              "      <td>2</td>\n",
              "      <td>...</td>\n",
              "      <td>3.0</td>\n",
              "      <td>0</td>\n",
              "      <td>0</td>\n",
              "      <td>0</td>\n",
              "      <td>0</td>\n",
              "      <td>0</td>\n",
              "      <td>0</td>\n",
              "      <td>0</td>\n",
              "      <td>0</td>\n",
              "      <td>NaN</td>\n",
              "    </tr>\n",
              "  </tbody>\n",
              "</table>\n",
              "<p>5 rows × 42 columns</p>\n",
              "</div>\n",
              "      <button class=\"colab-df-convert\" onclick=\"convertToInteractive('df-7749a86e-6c4f-41f1-b1c5-9a203de5e8f1')\"\n",
              "              title=\"Convert this dataframe to an interactive table.\"\n",
              "              style=\"display:none;\">\n",
              "        \n",
              "  <svg xmlns=\"http://www.w3.org/2000/svg\" height=\"24px\"viewBox=\"0 0 24 24\"\n",
              "       width=\"24px\">\n",
              "    <path d=\"M0 0h24v24H0V0z\" fill=\"none\"/>\n",
              "    <path d=\"M18.56 5.44l.94 2.06.94-2.06 2.06-.94-2.06-.94-.94-2.06-.94 2.06-2.06.94zm-11 1L8.5 8.5l.94-2.06 2.06-.94-2.06-.94L8.5 2.5l-.94 2.06-2.06.94zm10 10l.94 2.06.94-2.06 2.06-.94-2.06-.94-.94-2.06-.94 2.06-2.06.94z\"/><path d=\"M17.41 7.96l-1.37-1.37c-.4-.4-.92-.59-1.43-.59-.52 0-1.04.2-1.43.59L10.3 9.45l-7.72 7.72c-.78.78-.78 2.05 0 2.83L4 21.41c.39.39.9.59 1.41.59.51 0 1.02-.2 1.41-.59l7.78-7.78 2.81-2.81c.8-.78.8-2.07 0-2.86zM5.41 20L4 18.59l7.72-7.72 1.47 1.35L5.41 20z\"/>\n",
              "  </svg>\n",
              "      </button>\n",
              "      \n",
              "  <style>\n",
              "    .colab-df-container {\n",
              "      display:flex;\n",
              "      flex-wrap:wrap;\n",
              "      gap: 12px;\n",
              "    }\n",
              "\n",
              "    .colab-df-convert {\n",
              "      background-color: #E8F0FE;\n",
              "      border: none;\n",
              "      border-radius: 50%;\n",
              "      cursor: pointer;\n",
              "      display: none;\n",
              "      fill: #1967D2;\n",
              "      height: 32px;\n",
              "      padding: 0 0 0 0;\n",
              "      width: 32px;\n",
              "    }\n",
              "\n",
              "    .colab-df-convert:hover {\n",
              "      background-color: #E2EBFA;\n",
              "      box-shadow: 0px 1px 2px rgba(60, 64, 67, 0.3), 0px 1px 3px 1px rgba(60, 64, 67, 0.15);\n",
              "      fill: #174EA6;\n",
              "    }\n",
              "\n",
              "    [theme=dark] .colab-df-convert {\n",
              "      background-color: #3B4455;\n",
              "      fill: #D2E3FC;\n",
              "    }\n",
              "\n",
              "    [theme=dark] .colab-df-convert:hover {\n",
              "      background-color: #434B5C;\n",
              "      box-shadow: 0px 1px 3px 1px rgba(0, 0, 0, 0.15);\n",
              "      filter: drop-shadow(0px 1px 2px rgba(0, 0, 0, 0.3));\n",
              "      fill: #FFFFFF;\n",
              "    }\n",
              "  </style>\n",
              "\n",
              "      <script>\n",
              "        const buttonEl =\n",
              "          document.querySelector('#df-7749a86e-6c4f-41f1-b1c5-9a203de5e8f1 button.colab-df-convert');\n",
              "        buttonEl.style.display =\n",
              "          google.colab.kernel.accessAllowed ? 'block' : 'none';\n",
              "\n",
              "        async function convertToInteractive(key) {\n",
              "          const element = document.querySelector('#df-7749a86e-6c4f-41f1-b1c5-9a203de5e8f1');\n",
              "          const dataTable =\n",
              "            await google.colab.kernel.invokeFunction('convertToInteractive',\n",
              "                                                     [key], {});\n",
              "          if (!dataTable) return;\n",
              "\n",
              "          const docLinkHtml = 'Like what you see? Visit the ' +\n",
              "            '<a target=\"_blank\" href=https://colab.research.google.com/notebooks/data_table.ipynb>data table notebook</a>'\n",
              "            + ' to learn more about interactive tables.';\n",
              "          element.innerHTML = '';\n",
              "          dataTable['output_type'] = 'display_data';\n",
              "          await google.colab.output.renderOutput(dataTable, element);\n",
              "          const docLink = document.createElement('div');\n",
              "          docLink.innerHTML = docLinkHtml;\n",
              "          element.appendChild(docLink);\n",
              "        }\n",
              "      </script>\n",
              "    </div>\n",
              "  </div>\n",
              "  "
            ]
          },
          "metadata": {},
          "execution_count": 6
        }
      ]
    },
    {
      "cell_type": "markdown",
      "source": [
        "# **Tiền Xử Lý Và Biến Đổi Dữ Liệu** "
      ],
      "metadata": {
        "id": "RCaq1219Uf66"
      }
    },
    {
      "cell_type": "markdown",
      "source": [
        "## 1. Xem định dạng dữ liệu của các trường dữ liệu"
      ],
      "metadata": {
        "id": "sDwGuTomXfb7"
      }
    },
    {
      "cell_type": "markdown",
      "source": [
        "Ta sẽ tiến hành xem các định dạng dữ liệu của các trường trong DF thông qua hàm info() để xác định trường nào cần được tiến hành xử lý."
      ],
      "metadata": {
        "id": "TdfMihyJUj5S"
      }
    },
    {
      "cell_type": "code",
      "source": [
        "df.info()"
      ],
      "metadata": {
        "colab": {
          "base_uri": "https://localhost:8080/"
        },
        "id": "mamItgqZXbqn",
        "outputId": "41fe7c0c-527a-4363-d1d0-cc030ea6bc5e"
      },
      "execution_count": null,
      "outputs": [
        {
          "output_type": "stream",
          "name": "stdout",
          "text": [
            "<class 'pandas.core.frame.DataFrame'>\n",
            "RangeIndex: 100137 entries, 0 to 100136\n",
            "Data columns (total 42 columns):\n",
            " #   Column      Non-Null Count   Dtype         \n",
            "---  ------      --------------   -----         \n",
            " 0   Open Date   100137 non-null  datetime64[ns]\n",
            " 1   City        100137 non-null  object        \n",
            " 2   City Group  100137 non-null  object        \n",
            " 3   Type        100137 non-null  object        \n",
            " 4   P1          100137 non-null  int64         \n",
            " 5   P2          100137 non-null  float64       \n",
            " 6   P3          100137 non-null  float64       \n",
            " 7   P4          100137 non-null  float64       \n",
            " 8   P5          100137 non-null  int64         \n",
            " 9   P6          100137 non-null  int64         \n",
            " 10  P7          100137 non-null  int64         \n",
            " 11  P8          100137 non-null  int64         \n",
            " 12  P9          100137 non-null  int64         \n",
            " 13  P10         100137 non-null  int64         \n",
            " 14  P11         100137 non-null  int64         \n",
            " 15  P12         100137 non-null  int64         \n",
            " 16  P13         100137 non-null  float64       \n",
            " 17  P14         100137 non-null  int64         \n",
            " 18  P15         100137 non-null  int64         \n",
            " 19  P16         100137 non-null  int64         \n",
            " 20  P17         100137 non-null  int64         \n",
            " 21  P18         100137 non-null  int64         \n",
            " 22  P19         100137 non-null  int64         \n",
            " 23  P20         100137 non-null  int64         \n",
            " 24  P21         100137 non-null  int64         \n",
            " 25  P22         100137 non-null  int64         \n",
            " 26  P23         100137 non-null  int64         \n",
            " 27  P24         100137 non-null  int64         \n",
            " 28  P25         100137 non-null  int64         \n",
            " 29  P26         100137 non-null  float64       \n",
            " 30  P27         100137 non-null  float64       \n",
            " 31  P28         100137 non-null  float64       \n",
            " 32  P29         100137 non-null  float64       \n",
            " 33  P30         100137 non-null  int64         \n",
            " 34  P31         100137 non-null  int64         \n",
            " 35  P32         100137 non-null  int64         \n",
            " 36  P33         100137 non-null  int64         \n",
            " 37  P34         100137 non-null  int64         \n",
            " 38  P35         100137 non-null  int64         \n",
            " 39  P36         100137 non-null  int64         \n",
            " 40  P37         100137 non-null  int64         \n",
            " 41  revenue     137 non-null     float64       \n",
            "dtypes: datetime64[ns](1), float64(9), int64(29), object(3)\n",
            "memory usage: 32.1+ MB\n"
          ]
        }
      ]
    },
    {
      "cell_type": "markdown",
      "source": [
        "Ý nghĩa của các cột dữ liệu trong tập train và test:\n",
        "-\t```Id```: Id nhà hàng.\n",
        "-\t```Open Date```: ngày khai trương nhà hàng\n",
        "-\t```City```: Thành phố mà nhà hàng đang đặt. Lưu ý rằng có unicode trong tên.\n",
        "-\t```City Group```: Loại thành phố. Bao gồm loại thành phố lớn và loại Khác.\n",
        "- ```Type```: Loại hình nhà hàng. Bao gồm:\n",
        "  * ```FC```: Khu ăn uống.\n",
        "  * ```IL```: Nội tuyến.\n",
        "  * ```DT```: Drive Thru (tức là bán đồ ăn mang đi, người mua thường sẽ ngồi trên ô tô, đặt món và nhận đồ ăn qua cửa kính ô tô, sau đó sẽ lái xe đi mà không cần xuống xe).\n",
        "  * ```MB```: Di động.\n",
        "-\t```P1, P2 đến P37```: Có ba loại dữ liệu xáo trộn trong các cột này. Dữ liệu nhân khẩu học được thu thập từ các nhà cung cấp bên thứ ba có hệ thống GIS. Các dữ liệu này bao gồm dân số ở bất kỳ khu vực nhất định nào, phân bố theo độ tuổi và giới tính, quy mô phát triển. Dữ liệu bất động sản chủ yếu liên quan đến diện tích (đơn vị m2) của vị trí, mặt tiền của vị trí, chỗ đậu xe ô tô. Dữ liệu thương mại chủ yếu bao gồm sự tồn tại của các điểm chiến lược xung quanh nơi đặt nhà hàng, bao gồm trường học, ngân hàng, các nhà khai thác QSR khác.\n",
        "-\t```Revenue```: Cột doanh thu cho biết doanh thu (đã chuyển đổi) của nhà hàng trong một năm nhất định và là mục tiêu của phân tích dự đoán. Cần lưu ý rằng các giá trị được chuyển đổi để chúng không có nghĩa là giá trị đô la thực."
      ],
      "metadata": {
        "id": "sTbCMY9veBza"
      }
    },
    {
      "cell_type": "markdown",
      "source": [
        "## 2. Xử lý định dạng dữ liệu của trường Open Date. "
      ],
      "metadata": {
        "id": "LbQRzTk9W3JS"
      }
    },
    {
      "cell_type": "markdown",
      "source": [
        "Theo như kết quả quan sát, ta nhận thấy hiện dữ liệu của trường Open Date đang có Data Type là string. Ta cần chuyển đổi để đưa nó về Data Type Int thì mới có thể dùng được trong mô hình máy học."
      ],
      "metadata": {
        "id": "5UKlxEIaUvvY"
      }
    },
    {
      "cell_type": "markdown",
      "source": [
        "Ý tường cho việc chuyển đổi này là tìm ra được số ngày mà nhà hàng đã đi vào hoạt động bằng cách lấy thời gian mở cửa gần nhất của toàn bộ các nhà hàng có trong tập dữ liệu df trừ đi ngày khai trương của nhà hàng đó."
      ],
      "metadata": {
        "id": "aChUEg08U4Sb"
      }
    },
    {
      "cell_type": "code",
      "source": [
        "last_date = df[\"Open Date\"].max()   # Ngày max ở đây theo bộ dữ liệu là ngày 01/04/2014\n",
        "df[\"Open Date\"] = last_date - df[\"Open Date\"] "
      ],
      "metadata": {
        "id": "k9g7AFBqU-tK"
      },
      "execution_count": null,
      "outputs": []
    },
    {
      "cell_type": "markdown",
      "source": [
        "Sau khi trừ, trường dữ liệu Open Date đã mang dạng timedelta. Ta sẽ tiếp tục dùng hàm dt.days để convert timedelta sang int. Ta cần +1 vào vì số ngày trong phép trừ ở trên luôn bị thiếu đi 1 ngày (VD: từ ngày 1 đến 30 là 30 ngày, ta lấy 30 - 1 = 29 (thiếu))"
      ],
      "metadata": {
        "id": "JH13YSk-VB5E"
      }
    },
    {
      "cell_type": "code",
      "source": [
        "df[\"Open Date\"] = df[\"Open Date\"].dt.days + 1"
      ],
      "metadata": {
        "id": "3H9Fwv5OVUA5"
      },
      "execution_count": null,
      "outputs": []
    },
    {
      "cell_type": "markdown",
      "source": [
        "Sau khi đã có được số ngày đã đi vào hoạt động, ta có thể lấy Logarit của đơn vị này để giảm thiểu đi tác động ra biên của dữ liệu theo \n",
        "thời gian (vì số ngày đi vào hoạt động càng tăng thì con số này càng tăng. Việc lấy Logarit sẽ làm nhỏ đi dữ liệu rất tốt)"
      ],
      "metadata": {
        "id": "M8A_AuTDVWVw"
      }
    },
    {
      "cell_type": "code",
      "source": [
        "df[\"Log Days Opened\"] = df[\"Open Date\"].apply(np.log)   # Lấy logarit của số ngày đi vào hoạt động  và đưa nó vào cột mới Log Days Open"
      ],
      "metadata": {
        "id": "iaN-18-OVcSF"
      },
      "execution_count": null,
      "outputs": []
    },
    {
      "cell_type": "markdown",
      "source": [
        "Ta sẽ drop cột Open Date vì dữ liệu cảu cột này bây giờ là dư thừa"
      ],
      "metadata": {
        "id": "GCpiQ4moViB3"
      }
    },
    {
      "cell_type": "code",
      "source": [
        "df = df.drop([\"Open Date\"], axis=1) "
      ],
      "metadata": {
        "id": "dvPQcWKsVkZE"
      },
      "execution_count": null,
      "outputs": []
    },
    {
      "cell_type": "markdown",
      "source": [
        "Tiến hành vẽ scatter plot để xem tương quan giữa Log Days Open và Revenue"
      ],
      "metadata": {
        "id": "GDF1sx1TVoAs"
      }
    },
    {
      "cell_type": "code",
      "source": [
        "pylab.rcParams['figure.figsize'] = (8, 6)\n",
        "df[[\"Log Days Opened\", \"revenue\"]].plot(x=\"Log Days Opened\", y=\"revenue\", kind='scatter', title=\"Log (Days Opened) vs Revenue\")"
      ],
      "metadata": {
        "colab": {
          "base_uri": "https://localhost:8080/",
          "height": 421
        },
        "id": "RkGKop8FVqe6",
        "outputId": "1107e7c6-6a25-4940-aab5-6e4106f6fc02"
      },
      "execution_count": null,
      "outputs": [
        {
          "output_type": "execute_result",
          "data": {
            "text/plain": [
              "<matplotlib.axes._subplots.AxesSubplot at 0x7f2ffdb1e2d0>"
            ]
          },
          "metadata": {},
          "execution_count": 12
        },
        {
          "output_type": "display_data",
          "data": {
            "text/plain": [
              "<Figure size 576x432 with 1 Axes>"
            ],
            "image/png": "[encoded data removed]"
          },
          "metadata": {
            "needs_background": "light"
          }
        }
      ]
    },
    {
      "cell_type": "markdown",
      "source": [
        "Xem lại dữ liệu sau khi đã hoàn tất chuyển đổi cột Open Date"
      ],
      "metadata": {
        "id": "GWKtPcEVVwqN"
      }
    },
    {
      "cell_type": "code",
      "source": [
        "df "
      ],
      "metadata": {
        "colab": {
          "base_uri": "https://localhost:8080/",
          "height": 592
        },
        "id": "i5glSuK-X_Dn",
        "outputId": "292aaf40-db6c-42c6-e5f3-d646ccc8e706"
      },
      "execution_count": null,
      "outputs": [
        {
          "output_type": "execute_result",
          "data": {
            "text/plain": [
              "                  City  City Group Type  P1   P2   P3   P4  P5  P6  P7  ...  \\\n",
              "0                Niğde       Other   FC   1  4.0  4.0  4.0   1   2   5  ...   \n",
              "1                Konya       Other   IL   3  4.0  4.0  4.0   2   2   5  ...   \n",
              "2               Ankara  Big Cities   FC   3  4.0  4.0  4.0   2   2   5  ...   \n",
              "3              Kocaeli       Other   IL   2  4.0  4.0  4.0   2   3   5  ...   \n",
              "4       Afyonkarahisar       Other   FC   2  4.0  4.0  4.0   1   2   5  ...   \n",
              "...                ...         ...  ...  ..  ...  ...  ...  ..  ..  ..  ...   \n",
              "100132         Trabzon       Other   FC   2  3.0  3.0  5.0   4   2   4  ...   \n",
              "100133           İzmir  Big Cities   FC   4  5.0  4.0  4.0   2   3   5  ...   \n",
              "100134         Kayseri       Other   FC   3  4.0  4.0  4.0   2   3   5  ...   \n",
              "100135        İstanbul  Big Cities   FC   4  5.0  4.0  5.0   2   2   5  ...   \n",
              "100136        İstanbul  Big Cities   FC   4  5.0  3.0  5.0   2   2   5  ...   \n",
              "\n",
              "        P30  P31  P32  P33  P34  P35  P36  P37    revenue  Log Days Opened  \n",
              "0         0    0    0    0    0    0    0    0        NaN         7.003065  \n",
              "1         0    0    0    0    0    0    0    0        NaN         6.951772  \n",
              "2         0    0    0    0    0    0    0    0        NaN         4.477337  \n",
              "3         0    4    0    0    0    0    0    0        NaN         5.579730  \n",
              "4         0    0    0    0    0    0    0    0        NaN         5.187386  \n",
              "...     ...  ...  ...  ...  ...  ...  ...  ...        ...              ...  \n",
              "100132    0    0    0    0    0    0    0    0  5787594.0         7.621195  \n",
              "100133    0    0    0    0    0    0    0    0  9262754.0         7.887209  \n",
              "100134    0    0    0    0    0    0    0    0  2544857.0         7.922624  \n",
              "100135    0    0    0    0    0    0    0    0  7217634.0         7.077498  \n",
              "100136    0    0    0    0    0    0    0    0  6363241.0         7.382746  \n",
              "\n",
              "[100137 rows x 42 columns]"
            ],
            "text/html": [
              "\n",
              "  <div id=\"df-e52187c9-9e83-4e33-b4cc-678a3b3e2323\">\n",
              "    <div class=\"colab-df-container\">\n",
              "      <div>\n",
              "<style scoped>\n",
              "    .dataframe tbody tr th:only-of-type {\n",
              "        vertical-align: middle;\n",
              "    }\n",
              "\n",
              "    .dataframe tbody tr th {\n",
              "        vertical-align: top;\n",
              "    }\n",
              "\n",
              "    .dataframe thead th {\n",
              "        text-align: right;\n",
              "    }\n",
              "</style>\n",
              "<table border=\"1\" class=\"dataframe\">\n",
              "  <thead>\n",
              "    <tr style=\"text-align: right;\">\n",
              "      <th></th>\n",
              "      <th>City</th>\n",
              "      <th>City Group</th>\n",
              "      <th>Type</th>\n",
              "      <th>P1</th>\n",
              "      <th>P2</th>\n",
              "      <th>P3</th>\n",
              "      <th>P4</th>\n",
              "      <th>P5</th>\n",
              "      <th>P6</th>\n",
              "      <th>P7</th>\n",
              "      <th>...</th>\n",
              "      <th>P30</th>\n",
              "      <th>P31</th>\n",
              "      <th>P32</th>\n",
              "      <th>P33</th>\n",
              "      <th>P34</th>\n",
              "      <th>P35</th>\n",
              "      <th>P36</th>\n",
              "      <th>P37</th>\n",
              "      <th>revenue</th>\n",
              "      <th>Log Days Opened</th>\n",
              "    </tr>\n",
              "  </thead>\n",
              "  <tbody>\n",
              "    <tr>\n",
              "      <th>0</th>\n",
              "      <td>Niğde</td>\n",
              "      <td>Other</td>\n",
              "      <td>FC</td>\n",
              "      <td>1</td>\n",
              "      <td>4.0</td>\n",
              "      <td>4.0</td>\n",
              "      <td>4.0</td>\n",
              "      <td>1</td>\n",
              "      <td>2</td>\n",
              "      <td>5</td>\n",
              "      <td>...</td>\n",
              "      <td>0</td>\n",
              "      <td>0</td>\n",
              "      <td>0</td>\n",
              "      <td>0</td>\n",
              "      <td>0</td>\n",
              "      <td>0</td>\n",
              "      <td>0</td>\n",
              "      <td>0</td>\n",
              "      <td>NaN</td>\n",
              "      <td>7.003065</td>\n",
              "    </tr>\n",
              "    <tr>\n",
              "      <th>1</th>\n",
              "      <td>Konya</td>\n",
              "      <td>Other</td>\n",
              "      <td>IL</td>\n",
              "      <td>3</td>\n",
              "      <td>4.0</td>\n",
              "      <td>4.0</td>\n",
              "      <td>4.0</td>\n",
              "      <td>2</td>\n",
              "      <td>2</td>\n",
              "      <td>5</td>\n",
              "      <td>...</td>\n",
              "      <td>0</td>\n",
              "      <td>0</td>\n",
              "      <td>0</td>\n",
              "      <td>0</td>\n",
              "      <td>0</td>\n",
              "      <td>0</td>\n",
              "      <td>0</td>\n",
              "      <td>0</td>\n",
              "      <td>NaN</td>\n",
              "      <td>6.951772</td>\n",
              "    </tr>\n",
              "    <tr>\n",
              "      <th>2</th>\n",
              "      <td>Ankara</td>\n",
              "      <td>Big Cities</td>\n",
              "      <td>FC</td>\n",
              "      <td>3</td>\n",
              "      <td>4.0</td>\n",
              "      <td>4.0</td>\n",
              "      <td>4.0</td>\n",
              "      <td>2</td>\n",
              "      <td>2</td>\n",
              "      <td>5</td>\n",
              "      <td>...</td>\n",
              "      <td>0</td>\n",
              "      <td>0</td>\n",
              "      <td>0</td>\n",
              "      <td>0</td>\n",
              "      <td>0</td>\n",
              "      <td>0</td>\n",
              "      <td>0</td>\n",
              "      <td>0</td>\n",
              "      <td>NaN</td>\n",
              "      <td>4.477337</td>\n",
              "    </tr>\n",
              "    <tr>\n",
              "      <th>3</th>\n",
              "      <td>Kocaeli</td>\n",
              "      <td>Other</td>\n",
              "      <td>IL</td>\n",
              "      <td>2</td>\n",
              "      <td>4.0</td>\n",
              "      <td>4.0</td>\n",
              "      <td>4.0</td>\n",
              "      <td>2</td>\n",
              "      <td>3</td>\n",
              "      <td>5</td>\n",
              "      <td>...</td>\n",
              "      <td>0</td>\n",
              "      <td>4</td>\n",
              "      <td>0</td>\n",
              "      <td>0</td>\n",
              "      <td>0</td>\n",
              "      <td>0</td>\n",
              "      <td>0</td>\n",
              "      <td>0</td>\n",
              "      <td>NaN</td>\n",
              "      <td>5.579730</td>\n",
              "    </tr>\n",
              "    <tr>\n",
              "      <th>4</th>\n",
              "      <td>Afyonkarahisar</td>\n",
              "      <td>Other</td>\n",
              "      <td>FC</td>\n",
              "      <td>2</td>\n",
              "      <td>4.0</td>\n",
              "      <td>4.0</td>\n",
              "      <td>4.0</td>\n",
              "      <td>1</td>\n",
              "      <td>2</td>\n",
              "      <td>5</td>\n",
              "      <td>...</td>\n",
              "      <td>0</td>\n",
              "      <td>0</td>\n",
              "      <td>0</td>\n",
              "      <td>0</td>\n",
              "      <td>0</td>\n",
              "      <td>0</td>\n",
              "      <td>0</td>\n",
              "      <td>0</td>\n",
              "      <td>NaN</td>\n",
              "      <td>5.187386</td>\n",
              "    </tr>\n",
              "    <tr>\n",
              "      <th>...</th>\n",
              "      <td>...</td>\n",
              "      <td>...</td>\n",
              "      <td>...</td>\n",
              "      <td>...</td>\n",
              "      <td>...</td>\n",
              "      <td>...</td>\n",
              "      <td>...</td>\n",
              "      <td>...</td>\n",
              "      <td>...</td>\n",
              "      <td>...</td>\n",
              "      <td>...</td>\n",
              "      <td>...</td>\n",
              "      <td>...</td>\n",
              "      <td>...</td>\n",
              "      <td>...</td>\n",
              "      <td>...</td>\n",
              "      <td>...</td>\n",
              "      <td>...</td>\n",
              "      <td>...</td>\n",
              "      <td>...</td>\n",
              "      <td>...</td>\n",
              "    </tr>\n",
              "    <tr>\n",
              "      <th>100132</th>\n",
              "      <td>Trabzon</td>\n",
              "      <td>Other</td>\n",
              "      <td>FC</td>\n",
              "      <td>2</td>\n",
              "      <td>3.0</td>\n",
              "      <td>3.0</td>\n",
              "      <td>5.0</td>\n",
              "      <td>4</td>\n",
              "      <td>2</td>\n",
              "      <td>4</td>\n",
              "      <td>...</td>\n",
              "      <td>0</td>\n",
              "      <td>0</td>\n",
              "      <td>0</td>\n",
              "      <td>0</td>\n",
              "      <td>0</td>\n",
              "      <td>0</td>\n",
              "      <td>0</td>\n",
              "      <td>0</td>\n",
              "      <td>5787594.0</td>\n",
              "      <td>7.621195</td>\n",
              "    </tr>\n",
              "    <tr>\n",
              "      <th>100133</th>\n",
              "      <td>İzmir</td>\n",
              "      <td>Big Cities</td>\n",
              "      <td>FC</td>\n",
              "      <td>4</td>\n",
              "      <td>5.0</td>\n",
              "      <td>4.0</td>\n",
              "      <td>4.0</td>\n",
              "      <td>2</td>\n",
              "      <td>3</td>\n",
              "      <td>5</td>\n",
              "      <td>...</td>\n",
              "      <td>0</td>\n",
              "      <td>0</td>\n",
              "      <td>0</td>\n",
              "      <td>0</td>\n",
              "      <td>0</td>\n",
              "      <td>0</td>\n",
              "      <td>0</td>\n",
              "      <td>0</td>\n",
              "      <td>9262754.0</td>\n",
              "      <td>7.887209</td>\n",
              "    </tr>\n",
              "    <tr>\n",
              "      <th>100134</th>\n",
              "      <td>Kayseri</td>\n",
              "      <td>Other</td>\n",
              "      <td>FC</td>\n",
              "      <td>3</td>\n",
              "      <td>4.0</td>\n",
              "      <td>4.0</td>\n",
              "      <td>4.0</td>\n",
              "      <td>2</td>\n",
              "      <td>3</td>\n",
              "      <td>5</td>\n",
              "      <td>...</td>\n",
              "      <td>0</td>\n",
              "      <td>0</td>\n",
              "      <td>0</td>\n",
              "      <td>0</td>\n",
              "      <td>0</td>\n",
              "      <td>0</td>\n",
              "      <td>0</td>\n",
              "      <td>0</td>\n",
              "      <td>2544857.0</td>\n",
              "      <td>7.922624</td>\n",
              "    </tr>\n",
              "    <tr>\n",
              "      <th>100135</th>\n",
              "      <td>İstanbul</td>\n",
              "      <td>Big Cities</td>\n",
              "      <td>FC</td>\n",
              "      <td>4</td>\n",
              "      <td>5.0</td>\n",
              "      <td>4.0</td>\n",
              "      <td>5.0</td>\n",
              "      <td>2</td>\n",
              "      <td>2</td>\n",
              "      <td>5</td>\n",
              "      <td>...</td>\n",
              "      <td>0</td>\n",
              "      <td>0</td>\n",
              "      <td>0</td>\n",
              "      <td>0</td>\n",
              "      <td>0</td>\n",
              "      <td>0</td>\n",
              "      <td>0</td>\n",
              "      <td>0</td>\n",
              "      <td>7217634.0</td>\n",
              "      <td>7.077498</td>\n",
              "    </tr>\n",
              "    <tr>\n",
              "      <th>100136</th>\n",
              "      <td>İstanbul</td>\n",
              "      <td>Big Cities</td>\n",
              "      <td>FC</td>\n",
              "      <td>4</td>\n",
              "      <td>5.0</td>\n",
              "      <td>3.0</td>\n",
              "      <td>5.0</td>\n",
              "      <td>2</td>\n",
              "      <td>2</td>\n",
              "      <td>5</td>\n",
              "      <td>...</td>\n",
              "      <td>0</td>\n",
              "      <td>0</td>\n",
              "      <td>0</td>\n",
              "      <td>0</td>\n",
              "      <td>0</td>\n",
              "      <td>0</td>\n",
              "      <td>0</td>\n",
              "      <td>0</td>\n",
              "      <td>6363241.0</td>\n",
              "      <td>7.382746</td>\n",
              "    </tr>\n",
              "  </tbody>\n",
              "</table>\n",
              "<p>100137 rows × 42 columns</p>\n",
              "</div>\n",
              "      <button class=\"colab-df-convert\" onclick=\"convertToInteractive('df-e52187c9-9e83-4e33-b4cc-678a3b3e2323')\"\n",
              "              title=\"Convert this dataframe to an interactive table.\"\n",
              "              style=\"display:none;\">\n",
              "        \n",
              "  <svg xmlns=\"http://www.w3.org/2000/svg\" height=\"24px\"viewBox=\"0 0 24 24\"\n",
              "       width=\"24px\">\n",
              "    <path d=\"M0 0h24v24H0V0z\" fill=\"none\"/>\n",
              "    <path d=\"M18.56 5.44l.94 2.06.94-2.06 2.06-.94-2.06-.94-.94-2.06-.94 2.06-2.06.94zm-11 1L8.5 8.5l.94-2.06 2.06-.94-2.06-.94L8.5 2.5l-.94 2.06-2.06.94zm10 10l.94 2.06.94-2.06 2.06-.94-2.06-.94-.94-2.06-.94 2.06-2.06.94z\"/><path d=\"M17.41 7.96l-1.37-1.37c-.4-.4-.92-.59-1.43-.59-.52 0-1.04.2-1.43.59L10.3 9.45l-7.72 7.72c-.78.78-.78 2.05 0 2.83L4 21.41c.39.39.9.59 1.41.59.51 0 1.02-.2 1.41-.59l7.78-7.78 2.81-2.81c.8-.78.8-2.07 0-2.86zM5.41 20L4 18.59l7.72-7.72 1.47 1.35L5.41 20z\"/>\n",
              "  </svg>\n",
              "      </button>\n",
              "      \n",
              "  <style>\n",
              "    .colab-df-container {\n",
              "      display:flex;\n",
              "      flex-wrap:wrap;\n",
              "      gap: 12px;\n",
              "    }\n",
              "\n",
              "    .colab-df-convert {\n",
              "      background-color: #E8F0FE;\n",
              "      border: none;\n",
              "      border-radius: 50%;\n",
              "      cursor: pointer;\n",
              "      display: none;\n",
              "      fill: #1967D2;\n",
              "      height: 32px;\n",
              "      padding: 0 0 0 0;\n",
              "      width: 32px;\n",
              "    }\n",
              "\n",
              "    .colab-df-convert:hover {\n",
              "      background-color: #E2EBFA;\n",
              "      box-shadow: 0px 1px 2px rgba(60, 64, 67, 0.3), 0px 1px 3px 1px rgba(60, 64, 67, 0.15);\n",
              "      fill: #174EA6;\n",
              "    }\n",
              "\n",
              "    [theme=dark] .colab-df-convert {\n",
              "      background-color: #3B4455;\n",
              "      fill: #D2E3FC;\n",
              "    }\n",
              "\n",
              "    [theme=dark] .colab-df-convert:hover {\n",
              "      background-color: #434B5C;\n",
              "      box-shadow: 0px 1px 3px 1px rgba(0, 0, 0, 0.15);\n",
              "      filter: drop-shadow(0px 1px 2px rgba(0, 0, 0, 0.3));\n",
              "      fill: #FFFFFF;\n",
              "    }\n",
              "  </style>\n",
              "\n",
              "      <script>\n",
              "        const buttonEl =\n",
              "          document.querySelector('#df-e52187c9-9e83-4e33-b4cc-678a3b3e2323 button.colab-df-convert');\n",
              "        buttonEl.style.display =\n",
              "          google.colab.kernel.accessAllowed ? 'block' : 'none';\n",
              "\n",
              "        async function convertToInteractive(key) {\n",
              "          const element = document.querySelector('#df-e52187c9-9e83-4e33-b4cc-678a3b3e2323');\n",
              "          const dataTable =\n",
              "            await google.colab.kernel.invokeFunction('convertToInteractive',\n",
              "                                                     [key], {});\n",
              "          if (!dataTable) return;\n",
              "\n",
              "          const docLinkHtml = 'Like what you see? Visit the ' +\n",
              "            '<a target=\"_blank\" href=https://colab.research.google.com/notebooks/data_table.ipynb>data table notebook</a>'\n",
              "            + ' to learn more about interactive tables.';\n",
              "          element.innerHTML = '';\n",
              "          dataTable['output_type'] = 'display_data';\n",
              "          await google.colab.output.renderOutput(dataTable, element);\n",
              "          const docLink = document.createElement('div');\n",
              "          docLink.innerHTML = docLinkHtml;\n",
              "          element.appendChild(docLink);\n",
              "        }\n",
              "      </script>\n",
              "    </div>\n",
              "  </div>\n",
              "  "
            ]
          },
          "metadata": {},
          "execution_count": 13
        }
      ]
    },
    {
      "cell_type": "markdown",
      "source": [
        "## 3. Nhận diện đối tượng bất thường trên các trường dữ liệu"
      ],
      "metadata": {
        "id": "hLkTAA4BebD_"
      }
    },
    {
      "cell_type": "markdown",
      "source": [
        "Trong quá trình khám phá dữ liệu của tập train, có một vấn đề bất thường của dữ liệu đã được Lin phát hiện ra như sau: Các cột dữ liệu ẩn (từ P1 đến P39) của một số dòng dữ liệu có một tập hợp các cột mang giá trị bằng không y như nhau. Tập hợp các cột đó bao gồm P14, P15, P16, P17, P18, P24, P25, P26, P27, P30, P31, P32, P33, P34, P35, P36, P37. Tổng là 17 cột. Từ đó, một nghi vấn được hình thành rằng liệu tất cả các dòng trong df đều có những cột mang giá trị bằng 0 giống nhau? Để kiểm chứng, ta sẽ tiến hành tạo một tập hợp các cột toàn 0 và thêm một cột tính tổng các giá trị bằng 0 của các cột toàn 0 của mỗi dòng trong df để xem mỗi bản ghi có bao nhiêu cột trong số 17 cột nghi vấn mang giá trị 0."
      ],
      "metadata": {
        "id": "J6Ividm0V_YR"
      }
    },
    {
      "cell_type": "markdown",
      "source": [
        "Xây dựng tập hợp các cột nghi vấn mang giá trị toàn 0"
      ],
      "metadata": {
        "id": "ZypZ3rK8WJX0"
      }
    },
    {
      "cell_type": "code",
      "source": [
        "zero_cols = ['P14', 'P15', 'P16', 'P17', 'P18', 'P24', 'P25', 'P26', 'P27', 'P30', 'P31', 'P32', 'P33', 'P34', 'P35', 'P36', 'P37']"
      ],
      "metadata": {
        "id": "b2foBfHNWOit"
      },
      "execution_count": null,
      "outputs": []
    },
    {
      "cell_type": "markdown",
      "source": [
        "Tạo thêm cột tên zeros trong df để ghi lại số lượng cột mang giá trị = 0 của mỗi bản ghi"
      ],
      "metadata": {
        "id": "YtmQpLOYWPdT"
      }
    },
    {
      "cell_type": "code",
      "source": [
        "df['zeros'] = (df[zero_cols] == 0).sum(1)"
      ],
      "metadata": {
        "id": "D5qqmyJMWRXx"
      },
      "execution_count": null,
      "outputs": []
    },
    {
      "cell_type": "markdown",
      "source": [
        " Ta nên kiểm tra nghi vấn trên phân biệt giữa tập train và tập test. Mặc dù đã gom vào chung một df, ta vẫn có thể tách 2 tập train và test ra vì dữ liệu trong thuộc tính Revenue của tập train không có bất cứ giá trị NULL nào, còn tập test thì toàn bộ đều NULL."
      ],
      "metadata": {
        "id": "JLxcS_K6WfTb"
      }
    },
    {
      "cell_type": "markdown",
      "source": [
        "Tách tập train và vẽ biểu đồ"
      ],
      "metadata": {
        "id": "z_o-pPvmWrvr"
      }
    },
    {
      "cell_type": "code",
      "source": [
        "pylab.rcParams['figure.figsize'] = (20, 8)\n",
        "print (\"Distribution of new Zeros features:\")\n",
        "df['zeros'].loc[pd.notnull(df.revenue)].value_counts().plot(title=\"Train Set\", kind='bar')"
      ],
      "metadata": {
        "colab": {
          "base_uri": "https://localhost:8080/"
        },
        "id": "Ww80lrUEWipB",
        "outputId": "37bc85a1-6ee6-496e-c692-f35594f3e00b"
      },
      "execution_count": null,
      "outputs": [
        {
          "output_type": "stream",
          "name": "stdout",
          "text": [
            "Distribution of new Zeros features:\n"
          ]
        },
        {
          "output_type": "execute_result",
          "data": {
            "text/plain": [
              "<matplotlib.axes._subplots.AxesSubplot at 0x7f2ffda56490>"
            ]
          },
          "metadata": {},
          "execution_count": 16
        },
        {
          "output_type": "display_data",
          "data": {
            "text/plain": [
              "<Figure size 1440x576 with 1 Axes>"
            ],
            "image/png": "[encoded data removed]"
          },
          "metadata": {
            "needs_background": "light"
          }
        }
      ]
    },
    {
      "cell_type": "markdown",
      "source": [
        "Từ biểu đồ, ta có thể quan sát thấy có rất nhiều dòng trong tập train mang giá trị của cột zeros là 17, tức là có rất nhiều dòng mà chúng có cùng một tập hợp các thuộc tính mang giá trị 0. Các dòng có zeros = 0 tức là dòng đó không mang bất kỳ giá trị 0 nào trong các cột từ P1 đên P37. Duy nhất chỉ có 1 cột mà có giá trị của zeros rơi vào khoảng 0 đến 17 trong tập train. Dựa vào các nhận xét trên, ta có thể kết luận nghi vấn đã đặt ra ở trên là đúng đối với tập train và dữ liệu tại các cột này phụ thuộc có điều kiện với nhau."
      ],
      "metadata": {
        "id": "pdtgMHg4WyBq"
      }
    },
    {
      "cell_type": "markdown",
      "source": [
        "Bây giờ, hãy thử kiểm tra với tập test."
      ],
      "metadata": {
        "id": "PoEA5RTKXET1"
      }
    },
    {
      "cell_type": "code",
      "source": [
        "pylab.rcParams['figure.figsize'] = (20, 8)\n",
        "print (\"Distribution of new Zeros features:\")\n",
        "df['zeros'].loc[pd.isnull(df.revenue)].value_counts().plot(title=\"Test Set\", kind='bar', color='red')"
      ],
      "metadata": {
        "colab": {
          "base_uri": "https://localhost:8080/"
        },
        "id": "ojIIWYNcXGT5",
        "outputId": "76bc9f05-5c50-4706-c8a0-2b77f5a136cf"
      },
      "execution_count": null,
      "outputs": [
        {
          "output_type": "stream",
          "name": "stdout",
          "text": [
            "Distribution of new Zeros features:\n"
          ]
        },
        {
          "output_type": "execute_result",
          "data": {
            "text/plain": [
              "<matplotlib.axes._subplots.AxesSubplot at 0x7f2ffd53c990>"
            ]
          },
          "metadata": {},
          "execution_count": 17
        },
        {
          "output_type": "display_data",
          "data": {
            "text/plain": [
              "<Figure size 1440x576 with 1 Axes>"
            ],
            "image/png": "[encoded data removed]"
          },
          "metadata": {
            "needs_background": "light"
          }
        }
      ]
    },
    {
      "cell_type": "markdown",
      "source": [
        "Tại tập test, ta thấy có điểm khác biệt. Giá trị của zeros phân bố đa dạng với đầy đủ các giá trị.\n",
        "Rất có thể, đây chính là các giá trị fake mà kaggle đã tạo ra và thêm vào tập dữ liệu do sự phụ thuộc có điều kiện \n",
        "của các cột dữ liệu đề cập đến ở trên đã không còn được đảm bảo."
      ],
      "metadata": {
        "id": "5RK5Vye5XJaI"
      }
    },
    {
      "cell_type": "markdown",
      "source": [
        "## 4. Xử lý các thuộc tính dữ liệu ở dạng categorical"
      ],
      "metadata": {
        "id": "i2NihHpiqZZs"
      }
    },
    {
      "cell_type": "markdown",
      "source": [
        "Trong dữ liệu của chúng ta có 2 thuộc tính là ở dạng categorical, đó là \"Type\" (loại nhà hàng) và \"City Group\"\n",
        "do đó, ta cần chuyển chúng thành dummies để dùng được trong mô hình dự đoán."
      ],
      "metadata": {
        "id": "HPt2Rl_wXwMT"
      }
    },
    {
      "cell_type": "markdown",
      "source": [
        "Kaggle đã thêm khoảng 311,5 điểm dữ liệu \"giả\" vào tập test cho mỗi điểm dữ liệu thực. \n",
        "Do đó, ta sẽ cần phải chia cho số này để có thể cho ra được số liệu chính xác hơn của dữ liệu thực trong tập test"
      ],
      "metadata": {
        "id": "_IZ6u9p6X0n6"
      }
    },
    {
      "cell_type": "code",
      "source": [
        "FAKE_DATA_RATIO = 311.5\n",
        "SEED = 0"
      ],
      "metadata": {
        "id": "mGP4VPoGX7wr"
      },
      "execution_count": null,
      "outputs": []
    },
    {
      "cell_type": "markdown",
      "source": [
        "Tiến hành vẽ biểu đồ cột để xem phân phối của các giá trị dữ liệu của thuộc tính City Group trong tập train"
      ],
      "metadata": {
        "id": "gVm-QbnBX81H"
      }
    },
    {
      "cell_type": "code",
      "source": [
        "pylab.rcParams['figure.figsize'] = (6, 4)\n",
        "train[\"City Group\"].value_counts().plot(title=\"City Group Distribution in the Train Set\", kind='bar')\n",
        "plt.show()"
      ],
      "metadata": {
        "colab": {
          "base_uri": "https://localhost:8080/"
        },
        "id": "yKuhLqa3YAgY",
        "outputId": "aeefedc4-9237-4556-ae49-0cdf4d353c5f"
      },
      "execution_count": null,
      "outputs": [
        {
          "output_type": "display_data",
          "data": {
            "text/plain": [
              "<Figure size 432x288 with 1 Axes>"
            ],
            "image/png": "[encoded data removed]"
          },
          "metadata": {
            "needs_background": "light"
          }
        }
      ]
    },
    {
      "cell_type": "markdown",
      "source": [
        "Dựa vào biểu đồ, ta thấy được trong City Group có 2 loại giá trị thuộc tính là Big Cities và Other. \n",
        "Tần suất xuất hiện của chúng là cao và khá tương đồng."
      ],
      "metadata": {
        "id": "ZxpKlfWUYGSt"
      }
    },
    {
      "cell_type": "markdown",
      "source": [
        "Tiến hành vẽ biểu đồ cột để xem phân phối của các giá trị dữ liệu của thuộc tính Type trong tập train"
      ],
      "metadata": {
        "id": "Pmgl2cxlYLNH"
      }
    },
    {
      "cell_type": "code",
      "source": [
        "pylab.rcParams['figure.figsize'] = (6, 4)\n",
        "train[\"Type\"].value_counts().plot(title=\"Restaurant Type Distribution in the Train Set\", kind='bar')\n",
        "plt.show()"
      ],
      "metadata": {
        "colab": {
          "base_uri": "https://localhost:8080/"
        },
        "id": "YWpYUX5aYNiM",
        "outputId": "43e0f040-163a-4f4c-b3ff-569831dab668"
      },
      "execution_count": null,
      "outputs": [
        {
          "output_type": "display_data",
          "data": {
            "text/plain": [
              "<Figure size 432x288 with 1 Axes>"
            ],
            "image/png": "[encoded data removed]"
          },
          "metadata": {
            "needs_background": "light"
          }
        }
      ]
    },
    {
      "cell_type": "markdown",
      "source": [
        "Cũng dựa vào biểu đồ, ta thấy được rằng thuộc tính Type có 2 giá trị xuất hiện khá thường xuyên là FC và IL, trong khi đó, giá trị DT rất\n",
        "ít xuất hiện và MB thì hoàn toàn không có."
      ],
      "metadata": {
        "id": "ob7jMSzoYRzX"
      }
    },
    {
      "cell_type": "markdown",
      "source": [
        "Như đã nói ở trên, chúng ta cần chia tập Test cho con số FAKE_DATA_RATIO để có được số liệu chính xác hơn."
      ],
      "metadata": {
        "id": "3spq20BzYV_l"
      }
    },
    {
      "cell_type": "code",
      "source": [
        "pylab.rcParams['figure.figsize'] = (6, 4)\n",
        "(test[\"Type\"].value_counts() / FAKE_DATA_RATIO).plot(title=\"Approximate Restaurant Type Distribution in True Test Set\", kind='bar', color='Red')\n",
        "plt.show()"
      ],
      "metadata": {
        "colab": {
          "base_uri": "https://localhost:8080/"
        },
        "id": "RF57JAR-YZiE",
        "outputId": "fb3509fb-fb22-47b6-f858-52eef1c31098"
      },
      "execution_count": null,
      "outputs": [
        {
          "output_type": "display_data",
          "data": {
            "text/plain": [
              "<Figure size 432x288 with 1 Axes>"
            ],
            "image/png": "[encoded data removed]"
          },
          "metadata": {
            "needs_background": "light"
          }
        }
      ]
    },
    {
      "cell_type": "markdown",
      "source": [
        "Dựa vào biểu đồ thu được, 2 giá trị là FC và IL vẫn chiếm đa số và có tần suất xuất hiện cao, trong khi MB và DT có tần suất xuất hiện\n",
        "là rất thấp"
      ],
      "metadata": {
        "id": "NxVzDDwUYekg"
      }
    },
    {
      "cell_type": "markdown",
      "source": [
        "Tiến hành chuyển các thuộc tính City Group và Type sang dummies bằng hàm get_dummies"
      ],
      "metadata": {
        "id": "tFJF5BCDYiEX"
      }
    },
    {
      "cell_type": "code",
      "source": [
        "df = df.join(pd.get_dummies(df['City Group'], prefix=\"CG\"))\n",
        "df = df.join(pd.get_dummies(df['Type'], prefix=\"T\"))\n",
        "df"
      ],
      "metadata": {
        "colab": {
          "base_uri": "https://localhost:8080/"
        },
        "id": "7pfLTtCsYioU",
        "outputId": "6e175aa4-e275-491f-f2fa-3b3388b8b074"
      },
      "execution_count": null,
      "outputs": [
        {
          "output_type": "execute_result",
          "data": {
            "text/plain": [
              "                  City  City Group Type  P1   P2   P3   P4  P5  P6  P7  ...  \\\n",
              "0                Niğde       Other   FC   1  4.0  4.0  4.0   1   2   5  ...   \n",
              "1                Konya       Other   IL   3  4.0  4.0  4.0   2   2   5  ...   \n",
              "2               Ankara  Big Cities   FC   3  4.0  4.0  4.0   2   2   5  ...   \n",
              "3              Kocaeli       Other   IL   2  4.0  4.0  4.0   2   3   5  ...   \n",
              "4       Afyonkarahisar       Other   FC   2  4.0  4.0  4.0   1   2   5  ...   \n",
              "...                ...         ...  ...  ..  ...  ...  ...  ..  ..  ..  ...   \n",
              "100132         Trabzon       Other   FC   2  3.0  3.0  5.0   4   2   4  ...   \n",
              "100133           İzmir  Big Cities   FC   4  5.0  4.0  4.0   2   3   5  ...   \n",
              "100134         Kayseri       Other   FC   3  4.0  4.0  4.0   2   3   5  ...   \n",
              "100135        İstanbul  Big Cities   FC   4  5.0  4.0  5.0   2   2   5  ...   \n",
              "100136        İstanbul  Big Cities   FC   4  5.0  3.0  5.0   2   2   5  ...   \n",
              "\n",
              "        P37    revenue  Log Days Opened  zeros  CG_Big Cities  CG_Other  T_DT  \\\n",
              "0         0        NaN         7.003065     16              0         1     0   \n",
              "1         0        NaN         6.951772     17              0         1     0   \n",
              "2         0        NaN         4.477337     17              1         0     0   \n",
              "3         0        NaN         5.579730     15              0         1     0   \n",
              "4         0        NaN         5.187386     17              0         1     0   \n",
              "...     ...        ...              ...    ...            ...       ...   ...   \n",
              "100132    0  5787594.0         7.621195     17              0         1     0   \n",
              "100133    0  9262754.0         7.887209     17              1         0     0   \n",
              "100134    0  2544857.0         7.922624     17              0         1     0   \n",
              "100135    0  7217634.0         7.077498     17              1         0     0   \n",
              "100136    0  6363241.0         7.382746     17              1         0     0   \n",
              "\n",
              "        T_FC  T_IL  T_MB  \n",
              "0          1     0     0  \n",
              "1          0     1     0  \n",
              "2          1     0     0  \n",
              "3          0     1     0  \n",
              "4          1     0     0  \n",
              "...      ...   ...   ...  \n",
              "100132     1     0     0  \n",
              "100133     1     0     0  \n",
              "100134     1     0     0  \n",
              "100135     1     0     0  \n",
              "100136     1     0     0  \n",
              "\n",
              "[100137 rows x 49 columns]"
            ],
            "text/html": [
              "\n",
              "  <div id=\"df-179cd415-cda5-4401-bf84-94b813d6cf21\">\n",
              "    <div class=\"colab-df-container\">\n",
              "      <div>\n",
              "<style scoped>\n",
              "    .dataframe tbody tr th:only-of-type {\n",
              "        vertical-align: middle;\n",
              "    }\n",
              "\n",
              "    .dataframe tbody tr th {\n",
              "        vertical-align: top;\n",
              "    }\n",
              "\n",
              "    .dataframe thead th {\n",
              "        text-align: right;\n",
              "    }\n",
              "</style>\n",
              "<table border=\"1\" class=\"dataframe\">\n",
              "  <thead>\n",
              "    <tr style=\"text-align: right;\">\n",
              "      <th></th>\n",
              "      <th>City</th>\n",
              "      <th>City Group</th>\n",
              "      <th>Type</th>\n",
              "      <th>P1</th>\n",
              "      <th>P2</th>\n",
              "      <th>P3</th>\n",
              "      <th>P4</th>\n",
              "      <th>P5</th>\n",
              "      <th>P6</th>\n",
              "      <th>P7</th>\n",
              "      <th>...</th>\n",
              "      <th>P37</th>\n",
              "      <th>revenue</th>\n",
              "      <th>Log Days Opened</th>\n",
              "      <th>zeros</th>\n",
              "      <th>CG_Big Cities</th>\n",
              "      <th>CG_Other</th>\n",
              "      <th>T_DT</th>\n",
              "      <th>T_FC</th>\n",
              "      <th>T_IL</th>\n",
              "      <th>T_MB</th>\n",
              "    </tr>\n",
              "  </thead>\n",
              "  <tbody>\n",
              "    <tr>\n",
              "      <th>0</th>\n",
              "      <td>Niğde</td>\n",
              "      <td>Other</td>\n",
              "      <td>FC</td>\n",
              "      <td>1</td>\n",
              "      <td>4.0</td>\n",
              "      <td>4.0</td>\n",
              "      <td>4.0</td>\n",
              "      <td>1</td>\n",
              "      <td>2</td>\n",
              "      <td>5</td>\n",
              "      <td>...</td>\n",
              "      <td>0</td>\n",
              "      <td>NaN</td>\n",
              "      <td>7.003065</td>\n",
              "      <td>16</td>\n",
              "      <td>0</td>\n",
              "      <td>1</td>\n",
              "      <td>0</td>\n",
              "      <td>1</td>\n",
              "      <td>0</td>\n",
              "      <td>0</td>\n",
              "    </tr>\n",
              "    <tr>\n",
              "      <th>1</th>\n",
              "      <td>Konya</td>\n",
              "      <td>Other</td>\n",
              "      <td>IL</td>\n",
              "      <td>3</td>\n",
              "      <td>4.0</td>\n",
              "      <td>4.0</td>\n",
              "      <td>4.0</td>\n",
              "      <td>2</td>\n",
              "      <td>2</td>\n",
              "      <td>5</td>\n",
              "      <td>...</td>\n",
              "      <td>0</td>\n",
              "      <td>NaN</td>\n",
              "      <td>6.951772</td>\n",
              "      <td>17</td>\n",
              "      <td>0</td>\n",
              "      <td>1</td>\n",
              "      <td>0</td>\n",
              "      <td>0</td>\n",
              "      <td>1</td>\n",
              "      <td>0</td>\n",
              "    </tr>\n",
              "    <tr>\n",
              "      <th>2</th>\n",
              "      <td>Ankara</td>\n",
              "      <td>Big Cities</td>\n",
              "      <td>FC</td>\n",
              "      <td>3</td>\n",
              "      <td>4.0</td>\n",
              "      <td>4.0</td>\n",
              "      <td>4.0</td>\n",
              "      <td>2</td>\n",
              "      <td>2</td>\n",
              "      <td>5</td>\n",
              "      <td>...</td>\n",
              "      <td>0</td>\n",
              "      <td>NaN</td>\n",
              "      <td>4.477337</td>\n",
              "      <td>17</td>\n",
              "      <td>1</td>\n",
              "      <td>0</td>\n",
              "      <td>0</td>\n",
              "      <td>1</td>\n",
              "      <td>0</td>\n",
              "      <td>0</td>\n",
              "    </tr>\n",
              "    <tr>\n",
              "      <th>3</th>\n",
              "      <td>Kocaeli</td>\n",
              "      <td>Other</td>\n",
              "      <td>IL</td>\n",
              "      <td>2</td>\n",
              "      <td>4.0</td>\n",
              "      <td>4.0</td>\n",
              "      <td>4.0</td>\n",
              "      <td>2</td>\n",
              "      <td>3</td>\n",
              "      <td>5</td>\n",
              "      <td>...</td>\n",
              "      <td>0</td>\n",
              "      <td>NaN</td>\n",
              "      <td>5.579730</td>\n",
              "      <td>15</td>\n",
              "      <td>0</td>\n",
              "      <td>1</td>\n",
              "      <td>0</td>\n",
              "      <td>0</td>\n",
              "      <td>1</td>\n",
              "      <td>0</td>\n",
              "    </tr>\n",
              "    <tr>\n",
              "      <th>4</th>\n",
              "      <td>Afyonkarahisar</td>\n",
              "      <td>Other</td>\n",
              "      <td>FC</td>\n",
              "      <td>2</td>\n",
              "      <td>4.0</td>\n",
              "      <td>4.0</td>\n",
              "      <td>4.0</td>\n",
              "      <td>1</td>\n",
              "      <td>2</td>\n",
              "      <td>5</td>\n",
              "      <td>...</td>\n",
              "      <td>0</td>\n",
              "      <td>NaN</td>\n",
              "      <td>5.187386</td>\n",
              "      <td>17</td>\n",
              "      <td>0</td>\n",
              "      <td>1</td>\n",
              "      <td>0</td>\n",
              "      <td>1</td>\n",
              "      <td>0</td>\n",
              "      <td>0</td>\n",
              "    </tr>\n",
              "    <tr>\n",
              "      <th>...</th>\n",
              "      <td>...</td>\n",
              "      <td>...</td>\n",
              "      <td>...</td>\n",
              "      <td>...</td>\n",
              "      <td>...</td>\n",
              "      <td>...</td>\n",
              "      <td>...</td>\n",
              "      <td>...</td>\n",
              "      <td>...</td>\n",
              "      <td>...</td>\n",
              "      <td>...</td>\n",
              "      <td>...</td>\n",
              "      <td>...</td>\n",
              "      <td>...</td>\n",
              "      <td>...</td>\n",
              "      <td>...</td>\n",
              "      <td>...</td>\n",
              "      <td>...</td>\n",
              "      <td>...</td>\n",
              "      <td>...</td>\n",
              "      <td>...</td>\n",
              "    </tr>\n",
              "    <tr>\n",
              "      <th>100132</th>\n",
              "      <td>Trabzon</td>\n",
              "      <td>Other</td>\n",
              "      <td>FC</td>\n",
              "      <td>2</td>\n",
              "      <td>3.0</td>\n",
              "      <td>3.0</td>\n",
              "      <td>5.0</td>\n",
              "      <td>4</td>\n",
              "      <td>2</td>\n",
              "      <td>4</td>\n",
              "      <td>...</td>\n",
              "      <td>0</td>\n",
              "      <td>5787594.0</td>\n",
              "      <td>7.621195</td>\n",
              "      <td>17</td>\n",
              "      <td>0</td>\n",
              "      <td>1</td>\n",
              "      <td>0</td>\n",
              "      <td>1</td>\n",
              "      <td>0</td>\n",
              "      <td>0</td>\n",
              "    </tr>\n",
              "    <tr>\n",
              "      <th>100133</th>\n",
              "      <td>İzmir</td>\n",
              "      <td>Big Cities</td>\n",
              "      <td>FC</td>\n",
              "      <td>4</td>\n",
              "      <td>5.0</td>\n",
              "      <td>4.0</td>\n",
              "      <td>4.0</td>\n",
              "      <td>2</td>\n",
              "      <td>3</td>\n",
              "      <td>5</td>\n",
              "      <td>...</td>\n",
              "      <td>0</td>\n",
              "      <td>9262754.0</td>\n",
              "      <td>7.887209</td>\n",
              "      <td>17</td>\n",
              "      <td>1</td>\n",
              "      <td>0</td>\n",
              "      <td>0</td>\n",
              "      <td>1</td>\n",
              "      <td>0</td>\n",
              "      <td>0</td>\n",
              "    </tr>\n",
              "    <tr>\n",
              "      <th>100134</th>\n",
              "      <td>Kayseri</td>\n",
              "      <td>Other</td>\n",
              "      <td>FC</td>\n",
              "      <td>3</td>\n",
              "      <td>4.0</td>\n",
              "      <td>4.0</td>\n",
              "      <td>4.0</td>\n",
              "      <td>2</td>\n",
              "      <td>3</td>\n",
              "      <td>5</td>\n",
              "      <td>...</td>\n",
              "      <td>0</td>\n",
              "      <td>2544857.0</td>\n",
              "      <td>7.922624</td>\n",
              "      <td>17</td>\n",
              "      <td>0</td>\n",
              "      <td>1</td>\n",
              "      <td>0</td>\n",
              "      <td>1</td>\n",
              "      <td>0</td>\n",
              "      <td>0</td>\n",
              "    </tr>\n",
              "    <tr>\n",
              "      <th>100135</th>\n",
              "      <td>İstanbul</td>\n",
              "      <td>Big Cities</td>\n",
              "      <td>FC</td>\n",
              "      <td>4</td>\n",
              "      <td>5.0</td>\n",
              "      <td>4.0</td>\n",
              "      <td>5.0</td>\n",
              "      <td>2</td>\n",
              "      <td>2</td>\n",
              "      <td>5</td>\n",
              "      <td>...</td>\n",
              "      <td>0</td>\n",
              "      <td>7217634.0</td>\n",
              "      <td>7.077498</td>\n",
              "      <td>17</td>\n",
              "      <td>1</td>\n",
              "      <td>0</td>\n",
              "      <td>0</td>\n",
              "      <td>1</td>\n",
              "      <td>0</td>\n",
              "      <td>0</td>\n",
              "    </tr>\n",
              "    <tr>\n",
              "      <th>100136</th>\n",
              "      <td>İstanbul</td>\n",
              "      <td>Big Cities</td>\n",
              "      <td>FC</td>\n",
              "      <td>4</td>\n",
              "      <td>5.0</td>\n",
              "      <td>3.0</td>\n",
              "      <td>5.0</td>\n",
              "      <td>2</td>\n",
              "      <td>2</td>\n",
              "      <td>5</td>\n",
              "      <td>...</td>\n",
              "      <td>0</td>\n",
              "      <td>6363241.0</td>\n",
              "      <td>7.382746</td>\n",
              "      <td>17</td>\n",
              "      <td>1</td>\n",
              "      <td>0</td>\n",
              "      <td>0</td>\n",
              "      <td>1</td>\n",
              "      <td>0</td>\n",
              "      <td>0</td>\n",
              "    </tr>\n",
              "  </tbody>\n",
              "</table>\n",
              "<p>100137 rows × 49 columns</p>\n",
              "</div>\n",
              "      <button class=\"colab-df-convert\" onclick=\"convertToInteractive('df-179cd415-cda5-4401-bf84-94b813d6cf21')\"\n",
              "              title=\"Convert this dataframe to an interactive table.\"\n",
              "              style=\"display:none;\">\n",
              "        \n",
              "  <svg xmlns=\"http://www.w3.org/2000/svg\" height=\"24px\"viewBox=\"0 0 24 24\"\n",
              "       width=\"24px\">\n",
              "    <path d=\"M0 0h24v24H0V0z\" fill=\"none\"/>\n",
              "    <path d=\"M18.56 5.44l.94 2.06.94-2.06 2.06-.94-2.06-.94-.94-2.06-.94 2.06-2.06.94zm-11 1L8.5 8.5l.94-2.06 2.06-.94-2.06-.94L8.5 2.5l-.94 2.06-2.06.94zm10 10l.94 2.06.94-2.06 2.06-.94-2.06-.94-.94-2.06-.94 2.06-2.06.94z\"/><path d=\"M17.41 7.96l-1.37-1.37c-.4-.4-.92-.59-1.43-.59-.52 0-1.04.2-1.43.59L10.3 9.45l-7.72 7.72c-.78.78-.78 2.05 0 2.83L4 21.41c.39.39.9.59 1.41.59.51 0 1.02-.2 1.41-.59l7.78-7.78 2.81-2.81c.8-.78.8-2.07 0-2.86zM5.41 20L4 18.59l7.72-7.72 1.47 1.35L5.41 20z\"/>\n",
              "  </svg>\n",
              "      </button>\n",
              "      \n",
              "  <style>\n",
              "    .colab-df-container {\n",
              "      display:flex;\n",
              "      flex-wrap:wrap;\n",
              "      gap: 12px;\n",
              "    }\n",
              "\n",
              "    .colab-df-convert {\n",
              "      background-color: #E8F0FE;\n",
              "      border: none;\n",
              "      border-radius: 50%;\n",
              "      cursor: pointer;\n",
              "      display: none;\n",
              "      fill: #1967D2;\n",
              "      height: 32px;\n",
              "      padding: 0 0 0 0;\n",
              "      width: 32px;\n",
              "    }\n",
              "\n",
              "    .colab-df-convert:hover {\n",
              "      background-color: #E2EBFA;\n",
              "      box-shadow: 0px 1px 2px rgba(60, 64, 67, 0.3), 0px 1px 3px 1px rgba(60, 64, 67, 0.15);\n",
              "      fill: #174EA6;\n",
              "    }\n",
              "\n",
              "    [theme=dark] .colab-df-convert {\n",
              "      background-color: #3B4455;\n",
              "      fill: #D2E3FC;\n",
              "    }\n",
              "\n",
              "    [theme=dark] .colab-df-convert:hover {\n",
              "      background-color: #434B5C;\n",
              "      box-shadow: 0px 1px 3px 1px rgba(0, 0, 0, 0.15);\n",
              "      filter: drop-shadow(0px 1px 2px rgba(0, 0, 0, 0.3));\n",
              "      fill: #FFFFFF;\n",
              "    }\n",
              "  </style>\n",
              "\n",
              "      <script>\n",
              "        const buttonEl =\n",
              "          document.querySelector('#df-179cd415-cda5-4401-bf84-94b813d6cf21 button.colab-df-convert');\n",
              "        buttonEl.style.display =\n",
              "          google.colab.kernel.accessAllowed ? 'block' : 'none';\n",
              "\n",
              "        async function convertToInteractive(key) {\n",
              "          const element = document.querySelector('#df-179cd415-cda5-4401-bf84-94b813d6cf21');\n",
              "          const dataTable =\n",
              "            await google.colab.kernel.invokeFunction('convertToInteractive',\n",
              "                                                     [key], {});\n",
              "          if (!dataTable) return;\n",
              "\n",
              "          const docLinkHtml = 'Like what you see? Visit the ' +\n",
              "            '<a target=\"_blank\" href=https://colab.research.google.com/notebooks/data_table.ipynb>data table notebook</a>'\n",
              "            + ' to learn more about interactive tables.';\n",
              "          element.innerHTML = '';\n",
              "          dataTable['output_type'] = 'display_data';\n",
              "          await google.colab.output.renderOutput(dataTable, element);\n",
              "          const docLink = document.createElement('div');\n",
              "          docLink.innerHTML = docLinkHtml;\n",
              "          element.appendChild(docLink);\n",
              "        }\n",
              "      </script>\n",
              "    </div>\n",
              "  </div>\n",
              "  "
            ]
          },
          "metadata": {},
          "execution_count": 22
        }
      ]
    },
    {
      "cell_type": "markdown",
      "source": [
        "Sau khi đã get dummies xong, ta thấy rằng để xác định City Group, ta sẽ chỉ cần hoặc là cột CG_Other, hoặc là cột CG_BigCities vì\n",
        "City Group chỉ có 2 giá trị là Big Cities hoặc Other, nên nếu không là Big Cities thì chắc chắn là Other. Do đó, ta sẽ drop đi 2 cột \n",
        "là City Group và CT_Other.\n",
        "Đối với các thuộc tính có tần suất xuất hiện rất thấp được lấy từ thuộc tính Type như MB và DT, ta cũng nên drop đi. Đồng thời, ta\n",
        "cũng drop đi luôn cột Type."
      ],
      "metadata": {
        "id": "QiPK-23CYnkJ"
      }
    },
    {
      "cell_type": "code",
      "source": [
        "df = df.drop([\"City Group\", \"Type\", \"CG_Other\", \"T_MB\", \"T_DT\"], axis=1)  # Tiến hành drop các cột đã nêu ở trên\n",
        "print (df.shape)"
      ],
      "metadata": {
        "colab": {
          "base_uri": "https://localhost:8080/"
        },
        "id": "JKrZOht0YsNX",
        "outputId": "1997d6a6-db62-4354-c1f1-047f21fb753b"
      },
      "execution_count": null,
      "outputs": [
        {
          "output_type": "stream",
          "name": "stdout",
          "text": [
            "(100137, 44)\n"
          ]
        }
      ]
    },
    {
      "cell_type": "markdown",
      "source": [
        "Và đây là DF cho đến bước hiện tại của chúng ta"
      ],
      "metadata": {
        "id": "1xoPZcpQY4GZ"
      }
    },
    {
      "cell_type": "code",
      "source": [
        "df    # DF hiện tại của chúng ta"
      ],
      "metadata": {
        "colab": {
          "base_uri": "https://localhost:8080/"
        },
        "id": "U3asD6Bd2GGX",
        "outputId": "5f9860c4-6b19-4279-f092-60a0c4a8c012"
      },
      "execution_count": null,
      "outputs": [
        {
          "output_type": "execute_result",
          "data": {
            "text/plain": [
              "                  City  P1   P2   P3   P4  P5  P6  P7  P8  P9  ...  P34  P35  \\\n",
              "0                Niğde   1  4.0  4.0  4.0   1   2   5   4   5  ...    0    0   \n",
              "1                Konya   3  4.0  4.0  4.0   2   2   5   3   4  ...    0    0   \n",
              "2               Ankara   3  4.0  4.0  4.0   2   2   5   4   4  ...    0    0   \n",
              "3              Kocaeli   2  4.0  4.0  4.0   2   3   5   4   5  ...    0    0   \n",
              "4       Afyonkarahisar   2  4.0  4.0  4.0   1   2   5   4   5  ...    0    0   \n",
              "...                ...  ..  ...  ...  ...  ..  ..  ..  ..  ..  ...  ...  ...   \n",
              "100132         Trabzon   2  3.0  3.0  5.0   4   2   4   4   4  ...    0    0   \n",
              "100133           İzmir   4  5.0  4.0  4.0   2   3   5   4   4  ...    0    0   \n",
              "100134         Kayseri   3  4.0  4.0  4.0   2   3   5   5   5  ...    0    0   \n",
              "100135        İstanbul   4  5.0  4.0  5.0   2   2   5   5   5  ...    0    0   \n",
              "100136        İstanbul   4  5.0  3.0  5.0   2   2   5   4   4  ...    0    0   \n",
              "\n",
              "        P36  P37    revenue  Log Days Opened  zeros  CG_Big Cities  T_FC  T_IL  \n",
              "0         0    0        NaN         7.003065     16              0     1     0  \n",
              "1         0    0        NaN         6.951772     17              0     0     1  \n",
              "2         0    0        NaN         4.477337     17              1     1     0  \n",
              "3         0    0        NaN         5.579730     15              0     0     1  \n",
              "4         0    0        NaN         5.187386     17              0     1     0  \n",
              "...     ...  ...        ...              ...    ...            ...   ...   ...  \n",
              "100132    0    0  5787594.0         7.621195     17              0     1     0  \n",
              "100133    0    0  9262754.0         7.887209     17              1     1     0  \n",
              "100134    0    0  2544857.0         7.922624     17              0     1     0  \n",
              "100135    0    0  7217634.0         7.077498     17              1     1     0  \n",
              "100136    0    0  6363241.0         7.382746     17              1     1     0  \n",
              "\n",
              "[100137 rows x 44 columns]"
            ],
            "text/html": [
              "\n",
              "  <div id=\"df-41e098f0-1f6d-4616-b716-58a274c717a3\">\n",
              "    <div class=\"colab-df-container\">\n",
              "      <div>\n",
              "<style scoped>\n",
              "    .dataframe tbody tr th:only-of-type {\n",
              "        vertical-align: middle;\n",
              "    }\n",
              "\n",
              "    .dataframe tbody tr th {\n",
              "        vertical-align: top;\n",
              "    }\n",
              "\n",
              "    .dataframe thead th {\n",
              "        text-align: right;\n",
              "    }\n",
              "</style>\n",
              "<table border=\"1\" class=\"dataframe\">\n",
              "  <thead>\n",
              "    <tr style=\"text-align: right;\">\n",
              "      <th></th>\n",
              "      <th>City</th>\n",
              "      <th>P1</th>\n",
              "      <th>P2</th>\n",
              "      <th>P3</th>\n",
              "      <th>P4</th>\n",
              "      <th>P5</th>\n",
              "      <th>P6</th>\n",
              "      <th>P7</th>\n",
              "      <th>P8</th>\n",
              "      <th>P9</th>\n",
              "      <th>...</th>\n",
              "      <th>P34</th>\n",
              "      <th>P35</th>\n",
              "      <th>P36</th>\n",
              "      <th>P37</th>\n",
              "      <th>revenue</th>\n",
              "      <th>Log Days Opened</th>\n",
              "      <th>zeros</th>\n",
              "      <th>CG_Big Cities</th>\n",
              "      <th>T_FC</th>\n",
              "      <th>T_IL</th>\n",
              "    </tr>\n",
              "  </thead>\n",
              "  <tbody>\n",
              "    <tr>\n",
              "      <th>0</th>\n",
              "      <td>Niğde</td>\n",
              "      <td>1</td>\n",
              "      <td>4.0</td>\n",
              "      <td>4.0</td>\n",
              "      <td>4.0</td>\n",
              "      <td>1</td>\n",
              "      <td>2</td>\n",
              "      <td>5</td>\n",
              "      <td>4</td>\n",
              "      <td>5</td>\n",
              "      <td>...</td>\n",
              "      <td>0</td>\n",
              "      <td>0</td>\n",
              "      <td>0</td>\n",
              "      <td>0</td>\n",
              "      <td>NaN</td>\n",
              "      <td>7.003065</td>\n",
              "      <td>16</td>\n",
              "      <td>0</td>\n",
              "      <td>1</td>\n",
              "      <td>0</td>\n",
              "    </tr>\n",
              "    <tr>\n",
              "      <th>1</th>\n",
              "      <td>Konya</td>\n",
              "      <td>3</td>\n",
              "      <td>4.0</td>\n",
              "      <td>4.0</td>\n",
              "      <td>4.0</td>\n",
              "      <td>2</td>\n",
              "      <td>2</td>\n",
              "      <td>5</td>\n",
              "      <td>3</td>\n",
              "      <td>4</td>\n",
              "      <td>...</td>\n",
              "      <td>0</td>\n",
              "      <td>0</td>\n",
              "      <td>0</td>\n",
              "      <td>0</td>\n",
              "      <td>NaN</td>\n",
              "      <td>6.951772</td>\n",
              "      <td>17</td>\n",
              "      <td>0</td>\n",
              "      <td>0</td>\n",
              "      <td>1</td>\n",
              "    </tr>\n",
              "    <tr>\n",
              "      <th>2</th>\n",
              "      <td>Ankara</td>\n",
              "      <td>3</td>\n",
              "      <td>4.0</td>\n",
              "      <td>4.0</td>\n",
              "      <td>4.0</td>\n",
              "      <td>2</td>\n",
              "      <td>2</td>\n",
              "      <td>5</td>\n",
              "      <td>4</td>\n",
              "      <td>4</td>\n",
              "      <td>...</td>\n",
              "      <td>0</td>\n",
              "      <td>0</td>\n",
              "      <td>0</td>\n",
              "      <td>0</td>\n",
              "      <td>NaN</td>\n",
              "      <td>4.477337</td>\n",
              "      <td>17</td>\n",
              "      <td>1</td>\n",
              "      <td>1</td>\n",
              "      <td>0</td>\n",
              "    </tr>\n",
              "    <tr>\n",
              "      <th>3</th>\n",
              "      <td>Kocaeli</td>\n",
              "      <td>2</td>\n",
              "      <td>4.0</td>\n",
              "      <td>4.0</td>\n",
              "      <td>4.0</td>\n",
              "      <td>2</td>\n",
              "      <td>3</td>\n",
              "      <td>5</td>\n",
              "      <td>4</td>\n",
              "      <td>5</td>\n",
              "      <td>...</td>\n",
              "      <td>0</td>\n",
              "      <td>0</td>\n",
              "      <td>0</td>\n",
              "      <td>0</td>\n",
              "      <td>NaN</td>\n",
              "      <td>5.579730</td>\n",
              "      <td>15</td>\n",
              "      <td>0</td>\n",
              "      <td>0</td>\n",
              "      <td>1</td>\n",
              "    </tr>\n",
              "    <tr>\n",
              "      <th>4</th>\n",
              "      <td>Afyonkarahisar</td>\n",
              "      <td>2</td>\n",
              "      <td>4.0</td>\n",
              "      <td>4.0</td>\n",
              "      <td>4.0</td>\n",
              "      <td>1</td>\n",
              "      <td>2</td>\n",
              "      <td>5</td>\n",
              "      <td>4</td>\n",
              "      <td>5</td>\n",
              "      <td>...</td>\n",
              "      <td>0</td>\n",
              "      <td>0</td>\n",
              "      <td>0</td>\n",
              "      <td>0</td>\n",
              "      <td>NaN</td>\n",
              "      <td>5.187386</td>\n",
              "      <td>17</td>\n",
              "      <td>0</td>\n",
              "      <td>1</td>\n",
              "      <td>0</td>\n",
              "    </tr>\n",
              "    <tr>\n",
              "      <th>...</th>\n",
              "      <td>...</td>\n",
              "      <td>...</td>\n",
              "      <td>...</td>\n",
              "      <td>...</td>\n",
              "      <td>...</td>\n",
              "      <td>...</td>\n",
              "      <td>...</td>\n",
              "      <td>...</td>\n",
              "      <td>...</td>\n",
              "      <td>...</td>\n",
              "      <td>...</td>\n",
              "      <td>...</td>\n",
              "      <td>...</td>\n",
              "      <td>...</td>\n",
              "      <td>...</td>\n",
              "      <td>...</td>\n",
              "      <td>...</td>\n",
              "      <td>...</td>\n",
              "      <td>...</td>\n",
              "      <td>...</td>\n",
              "      <td>...</td>\n",
              "    </tr>\n",
              "    <tr>\n",
              "      <th>100132</th>\n",
              "      <td>Trabzon</td>\n",
              "      <td>2</td>\n",
              "      <td>3.0</td>\n",
              "      <td>3.0</td>\n",
              "      <td>5.0</td>\n",
              "      <td>4</td>\n",
              "      <td>2</td>\n",
              "      <td>4</td>\n",
              "      <td>4</td>\n",
              "      <td>4</td>\n",
              "      <td>...</td>\n",
              "      <td>0</td>\n",
              "      <td>0</td>\n",
              "      <td>0</td>\n",
              "      <td>0</td>\n",
              "      <td>5787594.0</td>\n",
              "      <td>7.621195</td>\n",
              "      <td>17</td>\n",
              "      <td>0</td>\n",
              "      <td>1</td>\n",
              "      <td>0</td>\n",
              "    </tr>\n",
              "    <tr>\n",
              "      <th>100133</th>\n",
              "      <td>İzmir</td>\n",
              "      <td>4</td>\n",
              "      <td>5.0</td>\n",
              "      <td>4.0</td>\n",
              "      <td>4.0</td>\n",
              "      <td>2</td>\n",
              "      <td>3</td>\n",
              "      <td>5</td>\n",
              "      <td>4</td>\n",
              "      <td>4</td>\n",
              "      <td>...</td>\n",
              "      <td>0</td>\n",
              "      <td>0</td>\n",
              "      <td>0</td>\n",
              "      <td>0</td>\n",
              "      <td>9262754.0</td>\n",
              "      <td>7.887209</td>\n",
              "      <td>17</td>\n",
              "      <td>1</td>\n",
              "      <td>1</td>\n",
              "      <td>0</td>\n",
              "    </tr>\n",
              "    <tr>\n",
              "      <th>100134</th>\n",
              "      <td>Kayseri</td>\n",
              "      <td>3</td>\n",
              "      <td>4.0</td>\n",
              "      <td>4.0</td>\n",
              "      <td>4.0</td>\n",
              "      <td>2</td>\n",
              "      <td>3</td>\n",
              "      <td>5</td>\n",
              "      <td>5</td>\n",
              "      <td>5</td>\n",
              "      <td>...</td>\n",
              "      <td>0</td>\n",
              "      <td>0</td>\n",
              "      <td>0</td>\n",
              "      <td>0</td>\n",
              "      <td>2544857.0</td>\n",
              "      <td>7.922624</td>\n",
              "      <td>17</td>\n",
              "      <td>0</td>\n",
              "      <td>1</td>\n",
              "      <td>0</td>\n",
              "    </tr>\n",
              "    <tr>\n",
              "      <th>100135</th>\n",
              "      <td>İstanbul</td>\n",
              "      <td>4</td>\n",
              "      <td>5.0</td>\n",
              "      <td>4.0</td>\n",
              "      <td>5.0</td>\n",
              "      <td>2</td>\n",
              "      <td>2</td>\n",
              "      <td>5</td>\n",
              "      <td>5</td>\n",
              "      <td>5</td>\n",
              "      <td>...</td>\n",
              "      <td>0</td>\n",
              "      <td>0</td>\n",
              "      <td>0</td>\n",
              "      <td>0</td>\n",
              "      <td>7217634.0</td>\n",
              "      <td>7.077498</td>\n",
              "      <td>17</td>\n",
              "      <td>1</td>\n",
              "      <td>1</td>\n",
              "      <td>0</td>\n",
              "    </tr>\n",
              "    <tr>\n",
              "      <th>100136</th>\n",
              "      <td>İstanbul</td>\n",
              "      <td>4</td>\n",
              "      <td>5.0</td>\n",
              "      <td>3.0</td>\n",
              "      <td>5.0</td>\n",
              "      <td>2</td>\n",
              "      <td>2</td>\n",
              "      <td>5</td>\n",
              "      <td>4</td>\n",
              "      <td>4</td>\n",
              "      <td>...</td>\n",
              "      <td>0</td>\n",
              "      <td>0</td>\n",
              "      <td>0</td>\n",
              "      <td>0</td>\n",
              "      <td>6363241.0</td>\n",
              "      <td>7.382746</td>\n",
              "      <td>17</td>\n",
              "      <td>1</td>\n",
              "      <td>1</td>\n",
              "      <td>0</td>\n",
              "    </tr>\n",
              "  </tbody>\n",
              "</table>\n",
              "<p>100137 rows × 44 columns</p>\n",
              "</div>\n",
              "      <button class=\"colab-df-convert\" onclick=\"convertToInteractive('df-41e098f0-1f6d-4616-b716-58a274c717a3')\"\n",
              "              title=\"Convert this dataframe to an interactive table.\"\n",
              "              style=\"display:none;\">\n",
              "        \n",
              "  <svg xmlns=\"http://www.w3.org/2000/svg\" height=\"24px\"viewBox=\"0 0 24 24\"\n",
              "       width=\"24px\">\n",
              "    <path d=\"M0 0h24v24H0V0z\" fill=\"none\"/>\n",
              "    <path d=\"M18.56 5.44l.94 2.06.94-2.06 2.06-.94-2.06-.94-.94-2.06-.94 2.06-2.06.94zm-11 1L8.5 8.5l.94-2.06 2.06-.94-2.06-.94L8.5 2.5l-.94 2.06-2.06.94zm10 10l.94 2.06.94-2.06 2.06-.94-2.06-.94-.94-2.06-.94 2.06-2.06.94z\"/><path d=\"M17.41 7.96l-1.37-1.37c-.4-.4-.92-.59-1.43-.59-.52 0-1.04.2-1.43.59L10.3 9.45l-7.72 7.72c-.78.78-.78 2.05 0 2.83L4 21.41c.39.39.9.59 1.41.59.51 0 1.02-.2 1.41-.59l7.78-7.78 2.81-2.81c.8-.78.8-2.07 0-2.86zM5.41 20L4 18.59l7.72-7.72 1.47 1.35L5.41 20z\"/>\n",
              "  </svg>\n",
              "      </button>\n",
              "      \n",
              "  <style>\n",
              "    .colab-df-container {\n",
              "      display:flex;\n",
              "      flex-wrap:wrap;\n",
              "      gap: 12px;\n",
              "    }\n",
              "\n",
              "    .colab-df-convert {\n",
              "      background-color: #E8F0FE;\n",
              "      border: none;\n",
              "      border-radius: 50%;\n",
              "      cursor: pointer;\n",
              "      display: none;\n",
              "      fill: #1967D2;\n",
              "      height: 32px;\n",
              "      padding: 0 0 0 0;\n",
              "      width: 32px;\n",
              "    }\n",
              "\n",
              "    .colab-df-convert:hover {\n",
              "      background-color: #E2EBFA;\n",
              "      box-shadow: 0px 1px 2px rgba(60, 64, 67, 0.3), 0px 1px 3px 1px rgba(60, 64, 67, 0.15);\n",
              "      fill: #174EA6;\n",
              "    }\n",
              "\n",
              "    [theme=dark] .colab-df-convert {\n",
              "      background-color: #3B4455;\n",
              "      fill: #D2E3FC;\n",
              "    }\n",
              "\n",
              "    [theme=dark] .colab-df-convert:hover {\n",
              "      background-color: #434B5C;\n",
              "      box-shadow: 0px 1px 3px 1px rgba(0, 0, 0, 0.15);\n",
              "      filter: drop-shadow(0px 1px 2px rgba(0, 0, 0, 0.3));\n",
              "      fill: #FFFFFF;\n",
              "    }\n",
              "  </style>\n",
              "\n",
              "      <script>\n",
              "        const buttonEl =\n",
              "          document.querySelector('#df-41e098f0-1f6d-4616-b716-58a274c717a3 button.colab-df-convert');\n",
              "        buttonEl.style.display =\n",
              "          google.colab.kernel.accessAllowed ? 'block' : 'none';\n",
              "\n",
              "        async function convertToInteractive(key) {\n",
              "          const element = document.querySelector('#df-41e098f0-1f6d-4616-b716-58a274c717a3');\n",
              "          const dataTable =\n",
              "            await google.colab.kernel.invokeFunction('convertToInteractive',\n",
              "                                                     [key], {});\n",
              "          if (!dataTable) return;\n",
              "\n",
              "          const docLinkHtml = 'Like what you see? Visit the ' +\n",
              "            '<a target=\"_blank\" href=https://colab.research.google.com/notebooks/data_table.ipynb>data table notebook</a>'\n",
              "            + ' to learn more about interactive tables.';\n",
              "          element.innerHTML = '';\n",
              "          dataTable['output_type'] = 'display_data';\n",
              "          await google.colab.output.renderOutput(dataTable, element);\n",
              "          const docLink = document.createElement('div');\n",
              "          docLink.innerHTML = docLinkHtml;\n",
              "          element.appendChild(docLink);\n",
              "        }\n",
              "      </script>\n",
              "    </div>\n",
              "  </div>\n",
              "  "
            ]
          },
          "metadata": {},
          "execution_count": 24
        }
      ]
    },
    {
      "cell_type": "markdown",
      "source": [
        "## 5. Xử lý định dạng dữ liệu của thuộc tính City"
      ],
      "metadata": {
        "id": "XX4TCBik30i2"
      }
    },
    {
      "cell_type": "markdown",
      "source": [
        "Ý tưởng của việc xử lý này là thay thế thuộc tính City bằng thuộc tính tần suất xuất hiện của thành phố đó trong\n",
        "các dòng dữ liệu của tập train và tần suất xuất hiện ước tính trong tập test thực tế."
      ],
      "metadata": {
        "id": "FxjK-txAZOYA"
      }
    },
    {
      "cell_type": "markdown",
      "source": [
        "Tạo city_counts để lưu lại tần suất xuất hiện của mỗi thành phố. Tương tự như trên, ta vẫn cần phải chia cho FAKE_DATA_RATIO"
      ],
      "metadata": {
        "id": "Lz3u2yUMZQH3"
      }
    },
    {
      "cell_type": "code",
      "source": [
        "city_counts = (test[\"City\"].value_counts() / FAKE_DATA_RATIO).add(train[\"City\"].value_counts(), fill_value=0)"
      ],
      "metadata": {
        "id": "oLM3ZSgtZbbX"
      },
      "execution_count": null,
      "outputs": []
    },
    {
      "cell_type": "markdown",
      "source": [
        "Thay thế thuộc tính City bằng các giá trị trong city_counts"
      ],
      "metadata": {
        "id": "HfW68HvNZda9"
      }
    },
    {
      "cell_type": "code",
      "source": [
        "df[\"City\"] = df[\"City\"].replace(city_counts)\n",
        "print (\"Some example estimated counts of restaurants per city:\")\n",
        "print (city_counts.head())"
      ],
      "metadata": {
        "colab": {
          "base_uri": "https://localhost:8080/"
        },
        "id": "nxtLWEByZhfJ",
        "outputId": "222daca5-eefb-45be-dbb8-414e3fdbcd38"
      },
      "execution_count": null,
      "outputs": [
        {
          "output_type": "stream",
          "name": "stdout",
          "text": [
            "Some example estimated counts of restaurants per city:\n",
            "Adana             11.070626\n",
            "Afyonkarahisar     2.062600\n",
            "Aksaray            2.086677\n",
            "Amasya             1.000000\n",
            "Ankara            46.993579\n",
            "Name: City, dtype: float64\n"
          ]
        }
      ]
    },
    {
      "cell_type": "markdown",
      "source": [
        "Vì khi đặt 1 nhà hàng mới vào 1 thành phố, con số trong city_counts sẽ tăng lên, nên ta sẽ lấy logarit của các giá trị của\n",
        "thuộc tính này để giảm thiểu đi tác động ra biên của dữ liệu theo thời gian (tương tự như với thuộc tính Open Date đã xử lý ở trên)"
      ],
      "metadata": {
        "id": "BomX-Jk4ZoBM"
      }
    },
    {
      "cell_type": "code",
      "source": [
        "df[\"Log City Count\"] = df[\"City\"].apply(np.log) "
      ],
      "metadata": {
        "id": "YpYXVIUNZrl2"
      },
      "execution_count": null,
      "outputs": []
    },
    {
      "cell_type": "markdown",
      "source": [
        "Sau khi đã lấy logarit xong, ta drop đi thuộc tính City."
      ],
      "metadata": {
        "id": "oS3BC4-4Zt4u"
      }
    },
    {
      "cell_type": "code",
      "source": [
        "df = df.drop([\"City\"], axis=1)"
      ],
      "metadata": {
        "id": "cLXHfklUZwQf"
      },
      "execution_count": null,
      "outputs": []
    },
    {
      "cell_type": "markdown",
      "source": [
        "Vẽ scatter để quan sát sự tương quan giữa Log City Count và Revenue"
      ],
      "metadata": {
        "id": "sa1RfleLZytl"
      }
    },
    {
      "cell_type": "code",
      "source": [
        "pylab.rcParams['figure.figsize'] = (8, 6) # Resizes plots\n",
        "df[[\"Log City Count\", \"revenue\"]].plot(x=\"Log City Count\", y=\"revenue\", kind='scatter', title=\"Log City Count vs Revenue\")"
      ],
      "metadata": {
        "colab": {
          "base_uri": "https://localhost:8080/"
        },
        "id": "9DNy8RsBZ81G",
        "outputId": "ab11c9e6-a8d8-4092-fa98-e43cfb526213"
      },
      "execution_count": null,
      "outputs": [
        {
          "output_type": "execute_result",
          "data": {
            "text/plain": [
              "<matplotlib.axes._subplots.AxesSubplot at 0x7f2ffd3084d0>"
            ]
          },
          "metadata": {},
          "execution_count": 29
        },
        {
          "output_type": "display_data",
          "data": {
            "text/plain": [
              "<Figure size 576x432 with 1 Axes>"
            ],
            "image/png": "[encoded data removed]"
          },
          "metadata": {
            "needs_background": "light"
          }
        }
      ]
    },
    {
      "cell_type": "markdown",
      "source": [
        "Từ biểu đồ, ta có thể quan sát thấy 3 Outliers. Tuy nhiên, dựa vào dữ liệu của tập train cũng như biểu đồ, ta có thể xác định \n",
        "thấy toàn bộ các nhà hàng có doah thu vượt bậc đều nằm ở Istabul. Istabul là thành phố lớn nhất, đồng thời là trung tâm kinh tế, \n",
        "văn hóa và lịch sử của Thổ Nhĩ Kỳ. Đây cũng đồng thời là một trong số các vùng đô thị lớn nhất châu Âu và xếp vào một trong những \n",
        "thành phố đông dân nhất thế giới xét về dân cư trong địa phận thành phố. Do vậy, việc nhà hàng tại đây có doanh thu vượt bậc có lẽ\n",
        "không phải là điều gì đó sai phạm và ta sẽ không drop đi các outliers này."
      ],
      "metadata": {
        "id": "ycYFgjw4Z-i4"
      }
    },
    {
      "cell_type": "markdown",
      "source": [
        "## 6. Xử lý các dòng thuộc các kiểu nhà hàng có tần suất xuất hiện thấp"
      ],
      "metadata": {
        "id": "UeR4Srp27uab"
      }
    },
    {
      "cell_type": "markdown",
      "source": [
        "Chúng ta sẽ tiến hành thay thế các dòng mà có loại nhà hàng có tần suất hiện rất thấp. Thay vì việc cố gắng dự đoán với các giá trị loại nhà hàng mà chỉ \n",
        "xuất hiện có 1 hoặc thậm chí không xuất hiện trong tập train, chúng ta sẽ thay thế chúng bằng một trong các kiểu nhà hàng thường \n",
        "xuất hiện khác bằng cách fit mô hình phân loại để dự đoán kiểu nhà hàng phổ biến mà các dòng nên mang."
      ],
      "metadata": {
        "id": "CJ0Ag4tna4jb"
      }
    },
    {
      "cell_type": "markdown",
      "source": [
        "Trong tofit là các dòng thuộc tập train và thuộc một trong các kiểu nhà hàng phổ biến (FC hoặc IL). Ta sẽ tách tập này và dùng nó để\n",
        "fit cho mô hình classifier dùng cho việc phân loại giá trị nhà hàng ngay phía dưới đây."
      ],
      "metadata": {
        "id": "4M6VR2m6a_nf"
      }
    },
    {
      "cell_type": "code",
      "source": [
        "tofit = df.loc[((df.T_FC==1) | (df.T_IL==1)) & (pd.notnull(df.revenue))]"
      ],
      "metadata": {
        "id": "_otJX2YAa6Zo"
      },
      "execution_count": null,
      "outputs": []
    },
    {
      "cell_type": "markdown",
      "source": [
        "Trong tofill là các dòng thuộc tập train hoặc test và thuộc một trong các kiểu nhà hàng hiếm (DT hoặc MB). Mô hình classifier vừa nói\n",
        "ở trên sẽ dự đoán giá trị T_FC của tập này và sau đó, nó sẽ được đưa vào lại trong DF để xử lý cho các dòng có tần kiểu nhà hàng hiếm"
      ],
      "metadata": {
        "id": "pTaGM5kBbB38"
      }
    },
    {
      "cell_type": "code",
      "source": [
        "tofill = df.loc[((df.T_FC==0) & (df.T_IL==0))]"
      ],
      "metadata": {
        "id": "ErmKIuuObFlq"
      },
      "execution_count": null,
      "outputs": []
    },
    {
      "cell_type": "markdown",
      "source": [
        "Quan sát kiểm tra các chiều của tập tofit và tofill vừa tạo"
      ],
      "metadata": {
        "id": "t2z9BEehbHcZ"
      }
    },
    {
      "cell_type": "code",
      "source": [
        "print (\"type training set shape:\", tofit.shape)\n",
        "print (\"data to impute:\", tofill.shape)"
      ],
      "metadata": {
        "colab": {
          "base_uri": "https://localhost:8080/"
        },
        "id": "jaf7x7YPbNfP",
        "outputId": "32d9cf5b-5da9-4672-dee7-0e9957d4bdb2"
      },
      "execution_count": null,
      "outputs": [
        {
          "output_type": "stream",
          "name": "stdout",
          "text": [
            "type training set shape: (136, 44)\n",
            "data to impute: (2535, 44)\n"
          ]
        }
      ]
    },
    {
      "cell_type": "markdown",
      "source": [
        "Lấy ra cột T_FC của tofit và đưa vào y. Đây là biến độc lập cần dự đoán bằng mô hình phân loại.\n",
        "Nhà hàng thuộc kiểu FC sẽ có nhãn là 1 và ngược lại, IL sẽ có nhãn là 0."
      ],
      "metadata": {
        "id": "RvSH-zOYbOuI"
      }
    },
    {
      "cell_type": "code",
      "source": [
        "y = tofit.T_FC"
      ],
      "metadata": {
        "id": "dIDEXvXMbTUm"
      },
      "execution_count": null,
      "outputs": []
    },
    {
      "cell_type": "markdown",
      "source": [
        "Vì các thuộc tính T_FC, T_IL và Revenue không tồn tại trong tập test nên chúng sẽ không thể sử dụng. Do đó, ta sẽ drop chúng đi.\n",
        "Trong X còn lại hiện là các biến độc lập dùng để dự đoán biến phụ thuộc T_FC trong y."
      ],
      "metadata": {
        "id": "c096en-8bS2f"
      }
    },
    {
      "cell_type": "code",
      "source": [
        "X = tofit.drop([\"T_FC\", \"T_IL\", \"revenue\"], axis=1)"
      ],
      "metadata": {
        "id": "Vr5xHmYZbWvu"
      },
      "execution_count": null,
      "outputs": []
    },
    {
      "cell_type": "markdown",
      "source": [
        "Tạo mô hình lưới để áp dụng vào tìm kiếm lưới ngẫu nhiên. Mô hình này được tạo với bộ các giá trị mà theo kinh nghiệm của tác giả,\n",
        "thường sẽ hoạt động tốt với các mô hình kiểu Random Forest (trong đó bao gồm cả ETC)"
      ],
      "metadata": {
        "id": "S7fs7NrebYny"
      }
    },
    {
      "cell_type": "code",
      "source": [
        "model_grid = {'max_depth': [None, 8], 'min_samples_split': [4,9,16], 'min_samples_leaf':[1,4], 'max_features':['sqrt', 0.5, None]}"
      ],
      "metadata": {
        "id": "lej_GNOIbcc3"
      },
      "execution_count": null,
      "outputs": []
    },
    {
      "cell_type": "markdown",
      "source": [
        "Mô hình ExtraTreesClassifier đươc chọn sử dụng vì nó rất phù hợp cho tập dữ liệu có khả năng bị over-fitting cao"
      ],
      "metadata": {
        "id": "ZOcIYHpcbeDv"
      }
    },
    {
      "cell_type": "code",
      "source": [
        "type_model = ExtraTreesClassifier(n_estimators=25, random_state=SEED)"
      ],
      "metadata": {
        "id": "jDJGLcZQbgq9"
      },
      "execution_count": null,
      "outputs": []
    },
    {
      "cell_type": "markdown",
      "source": [
        "Áp mô hình lưới đã tạo vào kỹ thuật RandomizedSearchCV để chọn ra được các thông số phù hợp tốt nhất cho ETC"
      ],
      "metadata": {
        "id": "-G4l0wZKbiRz"
      }
    },
    {
      "cell_type": "code",
      "source": [
        "grid = RandomizedSearchCV(type_model, model_grid, n_iter=10, cv=5, scoring=\"roc_auc\")\n",
        "grid.fit(X, y)"
      ],
      "metadata": {
        "colab": {
          "base_uri": "https://localhost:8080/"
        },
        "id": "-11OExFwbke6",
        "outputId": "70a05d77-842e-4dfa-9933-0dd71c6efb0b"
      },
      "execution_count": null,
      "outputs": [
        {
          "output_type": "execute_result",
          "data": {
            "text/plain": [
              "RandomizedSearchCV(cv=5,\n",
              "                   estimator=ExtraTreesClassifier(n_estimators=25,\n",
              "                                                  random_state=0),\n",
              "                   param_distributions={'max_depth': [None, 8],\n",
              "                                        'max_features': ['sqrt', 0.5, None],\n",
              "                                        'min_samples_leaf': [1, 4],\n",
              "                                        'min_samples_split': [4, 9, 16]},\n",
              "                   scoring='roc_auc')"
            ]
          },
          "metadata": {},
          "execution_count": 37
        }
      ]
    },
    {
      "cell_type": "markdown",
      "source": [
        "In ra các thông số đã chọn được"
      ],
      "metadata": {
        "id": "eDivtRGDbnfT"
      }
    },
    {
      "cell_type": "code",
      "source": [
        "print(\"Best parameters for Type Model:\")\n",
        "print(grid.best_params_)"
      ],
      "metadata": {
        "colab": {
          "base_uri": "https://localhost:8080/"
        },
        "id": "cGoRSRKVbu3L",
        "outputId": "6a5bbcf3-436d-4c6f-8fed-fdf1a4d69d5b"
      },
      "execution_count": null,
      "outputs": [
        {
          "output_type": "stream",
          "name": "stdout",
          "text": [
            "Best parameters for Type Model:\n",
            "{'min_samples_split': 16, 'min_samples_leaf': 4, 'max_features': None, 'max_depth': None}\n"
          ]
        }
      ]
    },
    {
      "cell_type": "markdown",
      "source": [
        "Thiết lập các thông số cho ETC bằng các thông số đã chọn được và fit model ETC. Bây giờ mô hình đã sẵn sàng để dùng cho việc tiến hành dự đoán"
      ],
      "metadata": {
        "id": "n014DRJxbwbm"
      }
    },
    {
      "cell_type": "code",
      "source": [
        "type_model.set_params(**grid.best_params_)    \n",
        "type_model.fit(X, y)"
      ],
      "metadata": {
        "colab": {
          "base_uri": "https://localhost:8080/"
        },
        "id": "0JtLAWhnb2U5",
        "outputId": "53f1e656-0647-48da-d7f9-a92bddf911ca"
      },
      "execution_count": null,
      "outputs": [
        {
          "output_type": "execute_result",
          "data": {
            "text/plain": [
              "ExtraTreesClassifier(max_features=None, min_samples_leaf=4,\n",
              "                     min_samples_split=16, n_estimators=25, random_state=0)"
            ]
          },
          "metadata": {},
          "execution_count": 39
        }
      ]
    },
    {
      "cell_type": "markdown",
      "source": [
        "Tiến hành dự đoán cho giá trị T_FC "
      ],
      "metadata": {
        "id": "yX1ZrTarb4Tt"
      }
    },
    {
      "cell_type": "code",
      "source": [
        "imputations = type_model.predict(tofill.drop([\"T_FC\", \"T_IL\", \"revenue\"], axis=1))"
      ],
      "metadata": {
        "id": "Idg39Kmdb-3D"
      },
      "execution_count": null,
      "outputs": []
    },
    {
      "cell_type": "markdown",
      "source": [
        "Sau khi đã có được kết quả dự đoán, ta sẽ set các dòng có kiểu nhà hàng hiếm bằng giá trị đã dự đoán được từ mô hình ETC"
      ],
      "metadata": {
        "id": "siYUh5eeciWu"
      }
    },
    {
      "cell_type": "code",
      "source": [
        "df.loc[(df.T_FC==0) & (df.T_IL==0), \"T_FC\"] = imputations "
      ],
      "metadata": {
        "id": "y1eoGDRYcucg"
      },
      "execution_count": null,
      "outputs": []
    },
    {
      "cell_type": "markdown",
      "source": [
        "Bây giờ, giá trị của cột T_FC nếu bằng 1 thì nhà hàng đó có kiểu là Food Court, nếu bằng 0 thì có kiểu là Inline, tức là đã có đủ tính phân loại. Do đó, ta sẽ drop cột T_IL đi"
      ],
      "metadata": {
        "id": "bvGI5SLtcuyl"
      }
    },
    {
      "cell_type": "code",
      "source": [
        "df = df.drop([\"T_IL\"], axis=1)        "
      ],
      "metadata": {
        "id": "5t6XnMeCczDC"
      },
      "execution_count": null,
      "outputs": []
    },
    {
      "cell_type": "markdown",
      "source": [
        "Chúng ta sẽ xem xem có bao nhiêu phần trăm dòng dữ liệu của thuộc tính T_FC trong DF đã được dán nhãn sau khi ghép kết quả dự đoán vào DF. Bao nhiêu phần trăm tương ứng với trong DF có bây nhiêu nhà hàng thuộc loại Food Court. Đồng thời, ta cũng xem xem có bao nhiêu phần trăm nhà hàng trong dự đoán từ mô hình ETC được dán nhãn là Food Court."
      ],
      "metadata": {
        "id": "GEGmx7e_c-2x"
      }
    },
    {
      "cell_type": "code",
      "source": [
        "print (\"% labeled FC in the training set:\", df.T_FC.mean())\n",
        "print (\"% of imputed values labeled FC:\", np.mean(imputations))"
      ],
      "metadata": {
        "colab": {
          "base_uri": "https://localhost:8080/"
        },
        "id": "QmDHLTcfc_NX",
        "outputId": "e08d33aa-abff-4180-c8da-22de00b3959e"
      },
      "execution_count": null,
      "outputs": [
        {
          "output_type": "stream",
          "name": "stdout",
          "text": [
            "% labeled FC in the training set: 0.5881342560691852\n",
            "% of imputed values labeled FC: 0.709664694280079\n"
          ]
        }
      ]
    },
    {
      "cell_type": "markdown",
      "source": [
        "## 7. Xử lý các cột P bằng dummies"
      ],
      "metadata": {
        "id": "la1oQx1jFrFN"
      }
    },
    {
      "cell_type": "markdown",
      "source": [
        "Mặc dù các cột P không mang kiểu categorical, tuy nhiên, miền giá trị của chúng là các con số và độ trải dài không cao\n",
        "nên ta có thể chuyển chúng thành các dummies để sử dụng trong mô hình dự đoán."
      ],
      "metadata": {
        "id": "9GtR1U3oaGtG"
      }
    },
    {
      "cell_type": "code",
      "source": [
        "print (\"Pre-binarizing columns:\", len(df.columns))\n",
        "for col in df.columns:\n",
        "    if col[0] == 'P':\n",
        "        print (col, len(df[col].unique()), \"unique values\")\n",
        "        df = df.join(pd.get_dummies(df[col], prefix=col))\n",
        "        df = df.drop([col, df.columns[-1]], axis=1)\n",
        "print (\"Post-binarizing columns:\", len(df.columns))"
      ],
      "metadata": {
        "colab": {
          "base_uri": "https://localhost:8080/"
        },
        "id": "Vfm3BZGrFrPh",
        "outputId": "c2fac02b-4103-4092-fb61-d42552ab1d78"
      },
      "execution_count": null,
      "outputs": [
        {
          "output_type": "stream",
          "name": "stdout",
          "text": [
            "Pre-binarizing columns: 43\n",
            "P1 9 unique values\n",
            "P2 9 unique values\n",
            "P3 8 unique values\n",
            "P4 7 unique values\n",
            "P5 7 unique values\n",
            "P6 8 unique values\n",
            "P7 7 unique values\n",
            "P8 8 unique values\n",
            "P9 5 unique values\n",
            "P10 4 unique values\n",
            "P11 8 unique values\n",
            "P12 7 unique values\n",
            "P13 5 unique values\n",
            "P14 10 unique values\n",
            "P15 9 unique values\n",
            "P16 10 unique values\n",
            "P17 10 unique values\n",
            "P18 9 unique values\n",
            "P19 9 unique values\n",
            "P20 9 unique values\n",
            "P21 9 unique values\n",
            "P22 5 unique values\n",
            "P23 9 unique values\n",
            "P24 9 unique values\n",
            "P25 9 unique values\n",
            "P26 10 unique values\n",
            "P27 10 unique values\n",
            "P28 9 unique values\n",
            "P29 8 unique values\n",
            "P30 10 unique values\n",
            "P31 10 unique values\n",
            "P32 10 unique values\n",
            "P33 7 unique values\n",
            "P34 11 unique values\n",
            "P35 8 unique values\n",
            "P36 10 unique values\n",
            "P37 8 unique values\n",
            "Post-binarizing columns: 279\n"
          ]
        }
      ]
    },
    {
      "cell_type": "markdown",
      "source": [
        "## 8. Scale các input"
      ],
      "metadata": {
        "id": "eLmvrLVoF3Qg"
      }
    },
    {
      "cell_type": "markdown",
      "source": [
        "Chúng ta sẽ tiến hành dùng MinMaxScaler để tiến hành scale toàn bộ các input với giá trị từ 0 đến 1.\n",
        "Điều này rất quan trọng khi ta sử dụng thuật toán KNN hoặc SVR để xây dựng mô hình."
      ],
      "metadata": {
        "id": "hcL1gVxJaPdP"
      }
    },
    {
      "cell_type": "code",
      "source": [
        "min_max_scaler = MinMaxScaler()"
      ],
      "metadata": {
        "id": "YLLnpyLvaSnE"
      },
      "execution_count": null,
      "outputs": []
    },
    {
      "cell_type": "markdown",
      "source": [
        "Vì thuộc tính Revenue không cần scale, ta lấy thuộc tính cần dự đoàn là Revenue từ DF, đồng thời drop đi thuộc tính này trong DF."
      ],
      "metadata": {
        "id": "zMP2NkY5aUxj"
      }
    },
    {
      "cell_type": "code",
      "source": [
        "rev = df.revenue\n",
        "df = df.drop(['revenue'], axis=1)"
      ],
      "metadata": {
        "id": "kw6BybyIaXFp"
      },
      "execution_count": null,
      "outputs": []
    },
    {
      "cell_type": "markdown",
      "source": [
        "Tiến hành scale các input"
      ],
      "metadata": {
        "id": "tPk9hCB8aZOS"
      }
    },
    {
      "cell_type": "code",
      "source": [
        "df = pd.DataFrame(data = min_max_scaler.fit_transform(df), columns = df.columns, index=df.index)"
      ],
      "metadata": {
        "id": "Ah-k-AytacLU"
      },
      "execution_count": null,
      "outputs": []
    },
    {
      "cell_type": "markdown",
      "source": [
        "Sau khi scale xong, ta hợp thuộc tính Revenue vừa tách ra vào lại DF."
      ],
      "metadata": {
        "id": "8JaD9JA6ackI"
      }
    },
    {
      "cell_type": "code",
      "source": [
        "df = df.join(rev) "
      ],
      "metadata": {
        "id": "DsG5rGmeae69"
      },
      "execution_count": null,
      "outputs": []
    },
    {
      "cell_type": "markdown",
      "source": [
        "Vậy là quá trình tiền xử lý và biến đổi dữ liệu đã hoàn thành. Ta cũng quan sát lại dữ liệu một lần trước khi xây dựng mô hình và tiến hành dự đoán."
      ],
      "metadata": {
        "id": "nRQS3mAeagkA"
      }
    },
    {
      "cell_type": "code",
      "source": [
        "df"
      ],
      "metadata": {
        "colab": {
          "base_uri": "https://localhost:8080/"
        },
        "id": "UNnSANtxaxOG",
        "outputId": "4f439312-dcd0-4f2f-e8eb-7ef00a3f10f8"
      },
      "execution_count": null,
      "outputs": [
        {
          "output_type": "execute_result",
          "data": {
            "text/plain": [
              "        Log Days Opened     zeros  CG_Big Cities  T_FC  Log City Count  P1_1  \\\n",
              "0              0.793077  0.941176            0.0   1.0        0.013630   1.0   \n",
              "1              0.787268  1.000000            0.0   0.0        0.394308   0.0   \n",
              "2              0.507045  1.000000            1.0   1.0        0.762641   0.0   \n",
              "3              0.631888  0.882353            0.0   0.0        0.540878   0.0   \n",
              "4              0.587456  1.000000            0.0   1.0        0.155237   0.0   \n",
              "...                 ...       ...            ...   ...             ...   ...   \n",
              "100132         0.863078  1.000000            0.0   1.0        0.289616   0.0   \n",
              "100133         0.893203  1.000000            1.0   1.0        0.673837   0.0   \n",
              "100134         0.897214  1.000000            0.0   1.0        0.285715   0.0   \n",
              "100135         0.801506  1.000000            1.0   1.0        1.000000   0.0   \n",
              "100136         0.836074  1.000000            1.0   1.0        1.000000   0.0   \n",
              "\n",
              "        P1_2  P1_3  P1_4  P1_5  ...  P36_12  P36_16  P37_0  P37_1  P37_2  \\\n",
              "0        0.0   0.0   0.0   0.0  ...     0.0     0.0    1.0    0.0    0.0   \n",
              "1        0.0   1.0   0.0   0.0  ...     0.0     0.0    1.0    0.0    0.0   \n",
              "2        0.0   1.0   0.0   0.0  ...     0.0     0.0    1.0    0.0    0.0   \n",
              "3        1.0   0.0   0.0   0.0  ...     0.0     0.0    1.0    0.0    0.0   \n",
              "4        1.0   0.0   0.0   0.0  ...     0.0     0.0    1.0    0.0    0.0   \n",
              "...      ...   ...   ...   ...  ...     ...     ...    ...    ...    ...   \n",
              "100132   1.0   0.0   0.0   0.0  ...     0.0     0.0    1.0    0.0    0.0   \n",
              "100133   0.0   0.0   1.0   0.0  ...     0.0     0.0    1.0    0.0    0.0   \n",
              "100134   0.0   1.0   0.0   0.0  ...     0.0     0.0    1.0    0.0    0.0   \n",
              "100135   0.0   0.0   1.0   0.0  ...     0.0     0.0    1.0    0.0    0.0   \n",
              "100136   0.0   0.0   1.0   0.0  ...     0.0     0.0    1.0    0.0    0.0   \n",
              "\n",
              "        P37_3  P37_4  P37_5  P37_6    revenue  \n",
              "0         0.0    0.0    0.0    0.0        NaN  \n",
              "1         0.0    0.0    0.0    0.0        NaN  \n",
              "2         0.0    0.0    0.0    0.0        NaN  \n",
              "3         0.0    0.0    0.0    0.0        NaN  \n",
              "4         0.0    0.0    0.0    0.0        NaN  \n",
              "...       ...    ...    ...    ...        ...  \n",
              "100132    0.0    0.0    0.0    0.0  5787594.0  \n",
              "100133    0.0    0.0    0.0    0.0  9262754.0  \n",
              "100134    0.0    0.0    0.0    0.0  2544857.0  \n",
              "100135    0.0    0.0    0.0    0.0  7217634.0  \n",
              "100136    0.0    0.0    0.0    0.0  6363241.0  \n",
              "\n",
              "[100137 rows x 279 columns]"
            ],
            "text/html": [
              "\n",
              "  <div id=\"df-ca2373ed-7e3a-47a4-a8bf-efc0c742c92f\">\n",
              "    <div class=\"colab-df-container\">\n",
              "      <div>\n",
              "<style scoped>\n",
              "    .dataframe tbody tr th:only-of-type {\n",
              "        vertical-align: middle;\n",
              "    }\n",
              "\n",
              "    .dataframe tbody tr th {\n",
              "        vertical-align: top;\n",
              "    }\n",
              "\n",
              "    .dataframe thead th {\n",
              "        text-align: right;\n",
              "    }\n",
              "</style>\n",
              "<table border=\"1\" class=\"dataframe\">\n",
              "  <thead>\n",
              "    <tr style=\"text-align: right;\">\n",
              "      <th></th>\n",
              "      <th>Log Days Opened</th>\n",
              "      <th>zeros</th>\n",
              "      <th>CG_Big Cities</th>\n",
              "      <th>T_FC</th>\n",
              "      <th>Log City Count</th>\n",
              "      <th>P1_1</th>\n",
              "      <th>P1_2</th>\n",
              "      <th>P1_3</th>\n",
              "      <th>P1_4</th>\n",
              "      <th>P1_5</th>\n",
              "      <th>...</th>\n",
              "      <th>P36_12</th>\n",
              "      <th>P36_16</th>\n",
              "      <th>P37_0</th>\n",
              "      <th>P37_1</th>\n",
              "      <th>P37_2</th>\n",
              "      <th>P37_3</th>\n",
              "      <th>P37_4</th>\n",
              "      <th>P37_5</th>\n",
              "      <th>P37_6</th>\n",
              "      <th>revenue</th>\n",
              "    </tr>\n",
              "  </thead>\n",
              "  <tbody>\n",
              "    <tr>\n",
              "      <th>0</th>\n",
              "      <td>0.793077</td>\n",
              "      <td>0.941176</td>\n",
              "      <td>0.0</td>\n",
              "      <td>1.0</td>\n",
              "      <td>0.013630</td>\n",
              "      <td>1.0</td>\n",
              "      <td>0.0</td>\n",
              "      <td>0.0</td>\n",
              "      <td>0.0</td>\n",
              "      <td>0.0</td>\n",
              "      <td>...</td>\n",
              "      <td>0.0</td>\n",
              "      <td>0.0</td>\n",
              "      <td>1.0</td>\n",
              "      <td>0.0</td>\n",
              "      <td>0.0</td>\n",
              "      <td>0.0</td>\n",
              "      <td>0.0</td>\n",
              "      <td>0.0</td>\n",
              "      <td>0.0</td>\n",
              "      <td>NaN</td>\n",
              "    </tr>\n",
              "    <tr>\n",
              "      <th>1</th>\n",
              "      <td>0.787268</td>\n",
              "      <td>1.000000</td>\n",
              "      <td>0.0</td>\n",
              "      <td>0.0</td>\n",
              "      <td>0.394308</td>\n",
              "      <td>0.0</td>\n",
              "      <td>0.0</td>\n",
              "      <td>1.0</td>\n",
              "      <td>0.0</td>\n",
              "      <td>0.0</td>\n",
              "      <td>...</td>\n",
              "      <td>0.0</td>\n",
              "      <td>0.0</td>\n",
              "      <td>1.0</td>\n",
              "      <td>0.0</td>\n",
              "      <td>0.0</td>\n",
              "      <td>0.0</td>\n",
              "      <td>0.0</td>\n",
              "      <td>0.0</td>\n",
              "      <td>0.0</td>\n",
              "      <td>NaN</td>\n",
              "    </tr>\n",
              "    <tr>\n",
              "      <th>2</th>\n",
              "      <td>0.507045</td>\n",
              "      <td>1.000000</td>\n",
              "      <td>1.0</td>\n",
              "      <td>1.0</td>\n",
              "      <td>0.762641</td>\n",
              "      <td>0.0</td>\n",
              "      <td>0.0</td>\n",
              "      <td>1.0</td>\n",
              "      <td>0.0</td>\n",
              "      <td>0.0</td>\n",
              "      <td>...</td>\n",
              "      <td>0.0</td>\n",
              "      <td>0.0</td>\n",
              "      <td>1.0</td>\n",
              "      <td>0.0</td>\n",
              "      <td>0.0</td>\n",
              "      <td>0.0</td>\n",
              "      <td>0.0</td>\n",
              "      <td>0.0</td>\n",
              "      <td>0.0</td>\n",
              "      <td>NaN</td>\n",
              "    </tr>\n",
              "    <tr>\n",
              "      <th>3</th>\n",
              "      <td>0.631888</td>\n",
              "      <td>0.882353</td>\n",
              "      <td>0.0</td>\n",
              "      <td>0.0</td>\n",
              "      <td>0.540878</td>\n",
              "      <td>0.0</td>\n",
              "      <td>1.0</td>\n",
              "      <td>0.0</td>\n",
              "      <td>0.0</td>\n",
              "      <td>0.0</td>\n",
              "      <td>...</td>\n",
              "      <td>0.0</td>\n",
              "      <td>0.0</td>\n",
              "      <td>1.0</td>\n",
              "      <td>0.0</td>\n",
              "      <td>0.0</td>\n",
              "      <td>0.0</td>\n",
              "      <td>0.0</td>\n",
              "      <td>0.0</td>\n",
              "      <td>0.0</td>\n",
              "      <td>NaN</td>\n",
              "    </tr>\n",
              "    <tr>\n",
              "      <th>4</th>\n",
              "      <td>0.587456</td>\n",
              "      <td>1.000000</td>\n",
              "      <td>0.0</td>\n",
              "      <td>1.0</td>\n",
              "      <td>0.155237</td>\n",
              "      <td>0.0</td>\n",
              "      <td>1.0</td>\n",
              "      <td>0.0</td>\n",
              "      <td>0.0</td>\n",
              "      <td>0.0</td>\n",
              "      <td>...</td>\n",
              "      <td>0.0</td>\n",
              "      <td>0.0</td>\n",
              "      <td>1.0</td>\n",
              "      <td>0.0</td>\n",
              "      <td>0.0</td>\n",
              "      <td>0.0</td>\n",
              "      <td>0.0</td>\n",
              "      <td>0.0</td>\n",
              "      <td>0.0</td>\n",
              "      <td>NaN</td>\n",
              "    </tr>\n",
              "    <tr>\n",
              "      <th>...</th>\n",
              "      <td>...</td>\n",
              "      <td>...</td>\n",
              "      <td>...</td>\n",
              "      <td>...</td>\n",
              "      <td>...</td>\n",
              "      <td>...</td>\n",
              "      <td>...</td>\n",
              "      <td>...</td>\n",
              "      <td>...</td>\n",
              "      <td>...</td>\n",
              "      <td>...</td>\n",
              "      <td>...</td>\n",
              "      <td>...</td>\n",
              "      <td>...</td>\n",
              "      <td>...</td>\n",
              "      <td>...</td>\n",
              "      <td>...</td>\n",
              "      <td>...</td>\n",
              "      <td>...</td>\n",
              "      <td>...</td>\n",
              "      <td>...</td>\n",
              "    </tr>\n",
              "    <tr>\n",
              "      <th>100132</th>\n",
              "      <td>0.863078</td>\n",
              "      <td>1.000000</td>\n",
              "      <td>0.0</td>\n",
              "      <td>1.0</td>\n",
              "      <td>0.289616</td>\n",
              "      <td>0.0</td>\n",
              "      <td>1.0</td>\n",
              "      <td>0.0</td>\n",
              "      <td>0.0</td>\n",
              "      <td>0.0</td>\n",
              "      <td>...</td>\n",
              "      <td>0.0</td>\n",
              "      <td>0.0</td>\n",
              "      <td>1.0</td>\n",
              "      <td>0.0</td>\n",
              "      <td>0.0</td>\n",
              "      <td>0.0</td>\n",
              "      <td>0.0</td>\n",
              "      <td>0.0</td>\n",
              "      <td>0.0</td>\n",
              "      <td>5787594.0</td>\n",
              "    </tr>\n",
              "    <tr>\n",
              "      <th>100133</th>\n",
              "      <td>0.893203</td>\n",
              "      <td>1.000000</td>\n",
              "      <td>1.0</td>\n",
              "      <td>1.0</td>\n",
              "      <td>0.673837</td>\n",
              "      <td>0.0</td>\n",
              "      <td>0.0</td>\n",
              "      <td>0.0</td>\n",
              "      <td>1.0</td>\n",
              "      <td>0.0</td>\n",
              "      <td>...</td>\n",
              "      <td>0.0</td>\n",
              "      <td>0.0</td>\n",
              "      <td>1.0</td>\n",
              "      <td>0.0</td>\n",
              "      <td>0.0</td>\n",
              "      <td>0.0</td>\n",
              "      <td>0.0</td>\n",
              "      <td>0.0</td>\n",
              "      <td>0.0</td>\n",
              "      <td>9262754.0</td>\n",
              "    </tr>\n",
              "    <tr>\n",
              "      <th>100134</th>\n",
              "      <td>0.897214</td>\n",
              "      <td>1.000000</td>\n",
              "      <td>0.0</td>\n",
              "      <td>1.0</td>\n",
              "      <td>0.285715</td>\n",
              "      <td>0.0</td>\n",
              "      <td>0.0</td>\n",
              "      <td>1.0</td>\n",
              "      <td>0.0</td>\n",
              "      <td>0.0</td>\n",
              "      <td>...</td>\n",
              "      <td>0.0</td>\n",
              "      <td>0.0</td>\n",
              "      <td>1.0</td>\n",
              "      <td>0.0</td>\n",
              "      <td>0.0</td>\n",
              "      <td>0.0</td>\n",
              "      <td>0.0</td>\n",
              "      <td>0.0</td>\n",
              "      <td>0.0</td>\n",
              "      <td>2544857.0</td>\n",
              "    </tr>\n",
              "    <tr>\n",
              "      <th>100135</th>\n",
              "      <td>0.801506</td>\n",
              "      <td>1.000000</td>\n",
              "      <td>1.0</td>\n",
              "      <td>1.0</td>\n",
              "      <td>1.000000</td>\n",
              "      <td>0.0</td>\n",
              "      <td>0.0</td>\n",
              "      <td>0.0</td>\n",
              "      <td>1.0</td>\n",
              "      <td>0.0</td>\n",
              "      <td>...</td>\n",
              "      <td>0.0</td>\n",
              "      <td>0.0</td>\n",
              "      <td>1.0</td>\n",
              "      <td>0.0</td>\n",
              "      <td>0.0</td>\n",
              "      <td>0.0</td>\n",
              "      <td>0.0</td>\n",
              "      <td>0.0</td>\n",
              "      <td>0.0</td>\n",
              "      <td>7217634.0</td>\n",
              "    </tr>\n",
              "    <tr>\n",
              "      <th>100136</th>\n",
              "      <td>0.836074</td>\n",
              "      <td>1.000000</td>\n",
              "      <td>1.0</td>\n",
              "      <td>1.0</td>\n",
              "      <td>1.000000</td>\n",
              "      <td>0.0</td>\n",
              "      <td>0.0</td>\n",
              "      <td>0.0</td>\n",
              "      <td>1.0</td>\n",
              "      <td>0.0</td>\n",
              "      <td>...</td>\n",
              "      <td>0.0</td>\n",
              "      <td>0.0</td>\n",
              "      <td>1.0</td>\n",
              "      <td>0.0</td>\n",
              "      <td>0.0</td>\n",
              "      <td>0.0</td>\n",
              "      <td>0.0</td>\n",
              "      <td>0.0</td>\n",
              "      <td>0.0</td>\n",
              "      <td>6363241.0</td>\n",
              "    </tr>\n",
              "  </tbody>\n",
              "</table>\n",
              "<p>100137 rows × 279 columns</p>\n",
              "</div>\n",
              "      <button class=\"colab-df-convert\" onclick=\"convertToInteractive('df-ca2373ed-7e3a-47a4-a8bf-efc0c742c92f')\"\n",
              "              title=\"Convert this dataframe to an interactive table.\"\n",
              "              style=\"display:none;\">\n",
              "        \n",
              "  <svg xmlns=\"http://www.w3.org/2000/svg\" height=\"24px\"viewBox=\"0 0 24 24\"\n",
              "       width=\"24px\">\n",
              "    <path d=\"M0 0h24v24H0V0z\" fill=\"none\"/>\n",
              "    <path d=\"M18.56 5.44l.94 2.06.94-2.06 2.06-.94-2.06-.94-.94-2.06-.94 2.06-2.06.94zm-11 1L8.5 8.5l.94-2.06 2.06-.94-2.06-.94L8.5 2.5l-.94 2.06-2.06.94zm10 10l.94 2.06.94-2.06 2.06-.94-2.06-.94-.94-2.06-.94 2.06-2.06.94z\"/><path d=\"M17.41 7.96l-1.37-1.37c-.4-.4-.92-.59-1.43-.59-.52 0-1.04.2-1.43.59L10.3 9.45l-7.72 7.72c-.78.78-.78 2.05 0 2.83L4 21.41c.39.39.9.59 1.41.59.51 0 1.02-.2 1.41-.59l7.78-7.78 2.81-2.81c.8-.78.8-2.07 0-2.86zM5.41 20L4 18.59l7.72-7.72 1.47 1.35L5.41 20z\"/>\n",
              "  </svg>\n",
              "      </button>\n",
              "      \n",
              "  <style>\n",
              "    .colab-df-container {\n",
              "      display:flex;\n",
              "      flex-wrap:wrap;\n",
              "      gap: 12px;\n",
              "    }\n",
              "\n",
              "    .colab-df-convert {\n",
              "      background-color: #E8F0FE;\n",
              "      border: none;\n",
              "      border-radius: 50%;\n",
              "      cursor: pointer;\n",
              "      display: none;\n",
              "      fill: #1967D2;\n",
              "      height: 32px;\n",
              "      padding: 0 0 0 0;\n",
              "      width: 32px;\n",
              "    }\n",
              "\n",
              "    .colab-df-convert:hover {\n",
              "      background-color: #E2EBFA;\n",
              "      box-shadow: 0px 1px 2px rgba(60, 64, 67, 0.3), 0px 1px 3px 1px rgba(60, 64, 67, 0.15);\n",
              "      fill: #174EA6;\n",
              "    }\n",
              "\n",
              "    [theme=dark] .colab-df-convert {\n",
              "      background-color: #3B4455;\n",
              "      fill: #D2E3FC;\n",
              "    }\n",
              "\n",
              "    [theme=dark] .colab-df-convert:hover {\n",
              "      background-color: #434B5C;\n",
              "      box-shadow: 0px 1px 3px 1px rgba(0, 0, 0, 0.15);\n",
              "      filter: drop-shadow(0px 1px 2px rgba(0, 0, 0, 0.3));\n",
              "      fill: #FFFFFF;\n",
              "    }\n",
              "  </style>\n",
              "\n",
              "      <script>\n",
              "        const buttonEl =\n",
              "          document.querySelector('#df-ca2373ed-7e3a-47a4-a8bf-efc0c742c92f button.colab-df-convert');\n",
              "        buttonEl.style.display =\n",
              "          google.colab.kernel.accessAllowed ? 'block' : 'none';\n",
              "\n",
              "        async function convertToInteractive(key) {\n",
              "          const element = document.querySelector('#df-ca2373ed-7e3a-47a4-a8bf-efc0c742c92f');\n",
              "          const dataTable =\n",
              "            await google.colab.kernel.invokeFunction('convertToInteractive',\n",
              "                                                     [key], {});\n",
              "          if (!dataTable) return;\n",
              "\n",
              "          const docLinkHtml = 'Like what you see? Visit the ' +\n",
              "            '<a target=\"_blank\" href=https://colab.research.google.com/notebooks/data_table.ipynb>data table notebook</a>'\n",
              "            + ' to learn more about interactive tables.';\n",
              "          element.innerHTML = '';\n",
              "          dataTable['output_type'] = 'display_data';\n",
              "          await google.colab.output.renderOutput(dataTable, element);\n",
              "          const docLink = document.createElement('div');\n",
              "          docLink.innerHTML = docLinkHtml;\n",
              "          element.appendChild(docLink);\n",
              "        }\n",
              "      </script>\n",
              "    </div>\n",
              "  </div>\n",
              "  "
            ]
          },
          "metadata": {},
          "execution_count": 49
        }
      ]
    },
    {
      "cell_type": "code",
      "source": [
        "df.describe()"
      ],
      "metadata": {
        "colab": {
          "base_uri": "https://localhost:8080/"
        },
        "id": "R1wc8M0GF3aW",
        "outputId": "33f05ebd-19e8-43f4-fa54-7ef3ca651e1e"
      },
      "execution_count": null,
      "outputs": [
        {
          "output_type": "execute_result",
          "data": {
            "text/plain": [
              "       Log Days Opened          zeros  CG_Big Cities           T_FC  \\\n",
              "count    100137.000000  100137.000000  100137.000000  100137.000000   \n",
              "mean          0.803995       0.658151       0.492825       0.588134   \n",
              "std           0.124607       0.360692       0.499951       0.492174   \n",
              "min           0.000000       0.000000       0.000000       0.000000   \n",
              "25%           0.735570       0.352941       0.000000       0.000000   \n",
              "50%           0.822789       0.764706       0.000000       1.000000   \n",
              "75%           0.886367       1.000000       1.000000       1.000000   \n",
              "max           1.000000       1.000000       1.000000       1.000000   \n",
              "\n",
              "       Log City Count           P1_1           P1_2           P1_3  \\\n",
              "count   100137.000000  100137.000000  100137.000000  100137.000000   \n",
              "mean         0.632233       0.051989       0.224752       0.228447   \n",
              "std          0.320736       0.222005       0.417421       0.419834   \n",
              "min          0.000000       0.000000       0.000000       0.000000   \n",
              "25%          0.394308       0.000000       0.000000       0.000000   \n",
              "50%          0.623604       0.000000       0.000000       0.000000   \n",
              "75%          1.000000       0.000000       0.000000       0.000000   \n",
              "max          1.000000       1.000000       1.000000       1.000000   \n",
              "\n",
              "                P1_4           P1_5  ...         P36_12         P36_16  \\\n",
              "count  100137.000000  100137.000000  ...  100137.000000  100137.000000   \n",
              "mean        0.282912       0.068566  ...       0.015399       0.030508   \n",
              "std         0.450416       0.252716  ...       0.123134       0.171982   \n",
              "min         0.000000       0.000000  ...       0.000000       0.000000   \n",
              "25%         0.000000       0.000000  ...       0.000000       0.000000   \n",
              "50%         0.000000       0.000000  ...       0.000000       0.000000   \n",
              "75%         1.000000       0.000000  ...       0.000000       0.000000   \n",
              "max         1.000000       1.000000  ...       1.000000       1.000000   \n",
              "\n",
              "               P37_0          P37_1          P37_2          P37_3  \\\n",
              "count  100137.000000  100137.000000  100137.000000  100137.000000   \n",
              "mean        0.660265       0.083645       0.069445       0.094101   \n",
              "std         0.473621       0.276857       0.254210       0.291971   \n",
              "min         0.000000       0.000000       0.000000       0.000000   \n",
              "25%         0.000000       0.000000       0.000000       0.000000   \n",
              "50%         1.000000       0.000000       0.000000       0.000000   \n",
              "75%         1.000000       0.000000       0.000000       0.000000   \n",
              "max         1.000000       1.000000       1.000000       1.000000   \n",
              "\n",
              "               P37_4          P37_5          P37_6       revenue  \n",
              "count  100137.000000  100137.000000  100137.000000  1.370000e+02  \n",
              "mean        0.050641       0.008808       0.021251  4.453533e+06  \n",
              "std         0.219264       0.093437       0.144220  2.576072e+06  \n",
              "min         0.000000       0.000000       0.000000  1.149870e+06  \n",
              "25%         0.000000       0.000000       0.000000  2.999068e+06  \n",
              "50%         0.000000       0.000000       0.000000  3.939804e+06  \n",
              "75%         0.000000       0.000000       0.000000  5.166635e+06  \n",
              "max         1.000000       1.000000       1.000000  1.969694e+07  \n",
              "\n",
              "[8 rows x 279 columns]"
            ],
            "text/html": [
              "\n",
              "  <div id=\"df-210b16f9-2bed-422c-9176-5148cbb83512\">\n",
              "    <div class=\"colab-df-container\">\n",
              "      <div>\n",
              "<style scoped>\n",
              "    .dataframe tbody tr th:only-of-type {\n",
              "        vertical-align: middle;\n",
              "    }\n",
              "\n",
              "    .dataframe tbody tr th {\n",
              "        vertical-align: top;\n",
              "    }\n",
              "\n",
              "    .dataframe thead th {\n",
              "        text-align: right;\n",
              "    }\n",
              "</style>\n",
              "<table border=\"1\" class=\"dataframe\">\n",
              "  <thead>\n",
              "    <tr style=\"text-align: right;\">\n",
              "      <th></th>\n",
              "      <th>Log Days Opened</th>\n",
              "      <th>zeros</th>\n",
              "      <th>CG_Big Cities</th>\n",
              "      <th>T_FC</th>\n",
              "      <th>Log City Count</th>\n",
              "      <th>P1_1</th>\n",
              "      <th>P1_2</th>\n",
              "      <th>P1_3</th>\n",
              "      <th>P1_4</th>\n",
              "      <th>P1_5</th>\n",
              "      <th>...</th>\n",
              "      <th>P36_12</th>\n",
              "      <th>P36_16</th>\n",
              "      <th>P37_0</th>\n",
              "      <th>P37_1</th>\n",
              "      <th>P37_2</th>\n",
              "      <th>P37_3</th>\n",
              "      <th>P37_4</th>\n",
              "      <th>P37_5</th>\n",
              "      <th>P37_6</th>\n",
              "      <th>revenue</th>\n",
              "    </tr>\n",
              "  </thead>\n",
              "  <tbody>\n",
              "    <tr>\n",
              "      <th>count</th>\n",
              "      <td>100137.000000</td>\n",
              "      <td>100137.000000</td>\n",
              "      <td>100137.000000</td>\n",
              "      <td>100137.000000</td>\n",
              "      <td>100137.000000</td>\n",
              "      <td>100137.000000</td>\n",
              "      <td>100137.000000</td>\n",
              "      <td>100137.000000</td>\n",
              "      <td>100137.000000</td>\n",
              "      <td>100137.000000</td>\n",
              "      <td>...</td>\n",
              "      <td>100137.000000</td>\n",
              "      <td>100137.000000</td>\n",
              "      <td>100137.000000</td>\n",
              "      <td>100137.000000</td>\n",
              "      <td>100137.000000</td>\n",
              "      <td>100137.000000</td>\n",
              "      <td>100137.000000</td>\n",
              "      <td>100137.000000</td>\n",
              "      <td>100137.000000</td>\n",
              "      <td>1.370000e+02</td>\n",
              "    </tr>\n",
              "    <tr>\n",
              "      <th>mean</th>\n",
              "      <td>0.803995</td>\n",
              "      <td>0.658151</td>\n",
              "      <td>0.492825</td>\n",
              "      <td>0.588134</td>\n",
              "      <td>0.632233</td>\n",
              "      <td>0.051989</td>\n",
              "      <td>0.224752</td>\n",
              "      <td>0.228447</td>\n",
              "      <td>0.282912</td>\n",
              "      <td>0.068566</td>\n",
              "      <td>...</td>\n",
              "      <td>0.015399</td>\n",
              "      <td>0.030508</td>\n",
              "      <td>0.660265</td>\n",
              "      <td>0.083645</td>\n",
              "      <td>0.069445</td>\n",
              "      <td>0.094101</td>\n",
              "      <td>0.050641</td>\n",
              "      <td>0.008808</td>\n",
              "      <td>0.021251</td>\n",
              "      <td>4.453533e+06</td>\n",
              "    </tr>\n",
              "    <tr>\n",
              "      <th>std</th>\n",
              "      <td>0.124607</td>\n",
              "      <td>0.360692</td>\n",
              "      <td>0.499951</td>\n",
              "      <td>0.492174</td>\n",
              "      <td>0.320736</td>\n",
              "      <td>0.222005</td>\n",
              "      <td>0.417421</td>\n",
              "      <td>0.419834</td>\n",
              "      <td>0.450416</td>\n",
              "      <td>0.252716</td>\n",
              "      <td>...</td>\n",
              "      <td>0.123134</td>\n",
              "      <td>0.171982</td>\n",
              "      <td>0.473621</td>\n",
              "      <td>0.276857</td>\n",
              "      <td>0.254210</td>\n",
              "      <td>0.291971</td>\n",
              "      <td>0.219264</td>\n",
              "      <td>0.093437</td>\n",
              "      <td>0.144220</td>\n",
              "      <td>2.576072e+06</td>\n",
              "    </tr>\n",
              "    <tr>\n",
              "      <th>min</th>\n",
              "      <td>0.000000</td>\n",
              "      <td>0.000000</td>\n",
              "      <td>0.000000</td>\n",
              "      <td>0.000000</td>\n",
              "      <td>0.000000</td>\n",
              "      <td>0.000000</td>\n",
              "      <td>0.000000</td>\n",
              "      <td>0.000000</td>\n",
              "      <td>0.000000</td>\n",
              "      <td>0.000000</td>\n",
              "      <td>...</td>\n",
              "      <td>0.000000</td>\n",
              "      <td>0.000000</td>\n",
              "      <td>0.000000</td>\n",
              "      <td>0.000000</td>\n",
              "      <td>0.000000</td>\n",
              "      <td>0.000000</td>\n",
              "      <td>0.000000</td>\n",
              "      <td>0.000000</td>\n",
              "      <td>0.000000</td>\n",
              "      <td>1.149870e+06</td>\n",
              "    </tr>\n",
              "    <tr>\n",
              "      <th>25%</th>\n",
              "      <td>0.735570</td>\n",
              "      <td>0.352941</td>\n",
              "      <td>0.000000</td>\n",
              "      <td>0.000000</td>\n",
              "      <td>0.394308</td>\n",
              "      <td>0.000000</td>\n",
              "      <td>0.000000</td>\n",
              "      <td>0.000000</td>\n",
              "      <td>0.000000</td>\n",
              "      <td>0.000000</td>\n",
              "      <td>...</td>\n",
              "      <td>0.000000</td>\n",
              "      <td>0.000000</td>\n",
              "      <td>0.000000</td>\n",
              "      <td>0.000000</td>\n",
              "      <td>0.000000</td>\n",
              "      <td>0.000000</td>\n",
              "      <td>0.000000</td>\n",
              "      <td>0.000000</td>\n",
              "      <td>0.000000</td>\n",
              "      <td>2.999068e+06</td>\n",
              "    </tr>\n",
              "    <tr>\n",
              "      <th>50%</th>\n",
              "      <td>0.822789</td>\n",
              "      <td>0.764706</td>\n",
              "      <td>0.000000</td>\n",
              "      <td>1.000000</td>\n",
              "      <td>0.623604</td>\n",
              "      <td>0.000000</td>\n",
              "      <td>0.000000</td>\n",
              "      <td>0.000000</td>\n",
              "      <td>0.000000</td>\n",
              "      <td>0.000000</td>\n",
              "      <td>...</td>\n",
              "      <td>0.000000</td>\n",
              "      <td>0.000000</td>\n",
              "      <td>1.000000</td>\n",
              "      <td>0.000000</td>\n",
              "      <td>0.000000</td>\n",
              "      <td>0.000000</td>\n",
              "      <td>0.000000</td>\n",
              "      <td>0.000000</td>\n",
              "      <td>0.000000</td>\n",
              "      <td>3.939804e+06</td>\n",
              "    </tr>\n",
              "    <tr>\n",
              "      <th>75%</th>\n",
              "      <td>0.886367</td>\n",
              "      <td>1.000000</td>\n",
              "      <td>1.000000</td>\n",
              "      <td>1.000000</td>\n",
              "      <td>1.000000</td>\n",
              "      <td>0.000000</td>\n",
              "      <td>0.000000</td>\n",
              "      <td>0.000000</td>\n",
              "      <td>1.000000</td>\n",
              "      <td>0.000000</td>\n",
              "      <td>...</td>\n",
              "      <td>0.000000</td>\n",
              "      <td>0.000000</td>\n",
              "      <td>1.000000</td>\n",
              "      <td>0.000000</td>\n",
              "      <td>0.000000</td>\n",
              "      <td>0.000000</td>\n",
              "      <td>0.000000</td>\n",
              "      <td>0.000000</td>\n",
              "      <td>0.000000</td>\n",
              "      <td>5.166635e+06</td>\n",
              "    </tr>\n",
              "    <tr>\n",
              "      <th>max</th>\n",
              "      <td>1.000000</td>\n",
              "      <td>1.000000</td>\n",
              "      <td>1.000000</td>\n",
              "      <td>1.000000</td>\n",
              "      <td>1.000000</td>\n",
              "      <td>1.000000</td>\n",
              "      <td>1.000000</td>\n",
              "      <td>1.000000</td>\n",
              "      <td>1.000000</td>\n",
              "      <td>1.000000</td>\n",
              "      <td>...</td>\n",
              "      <td>1.000000</td>\n",
              "      <td>1.000000</td>\n",
              "      <td>1.000000</td>\n",
              "      <td>1.000000</td>\n",
              "      <td>1.000000</td>\n",
              "      <td>1.000000</td>\n",
              "      <td>1.000000</td>\n",
              "      <td>1.000000</td>\n",
              "      <td>1.000000</td>\n",
              "      <td>1.969694e+07</td>\n",
              "    </tr>\n",
              "  </tbody>\n",
              "</table>\n",
              "<p>8 rows × 279 columns</p>\n",
              "</div>\n",
              "      <button class=\"colab-df-convert\" onclick=\"convertToInteractive('df-210b16f9-2bed-422c-9176-5148cbb83512')\"\n",
              "              title=\"Convert this dataframe to an interactive table.\"\n",
              "              style=\"display:none;\">\n",
              "        \n",
              "  <svg xmlns=\"http://www.w3.org/2000/svg\" height=\"24px\"viewBox=\"0 0 24 24\"\n",
              "       width=\"24px\">\n",
              "    <path d=\"M0 0h24v24H0V0z\" fill=\"none\"/>\n",
              "    <path d=\"M18.56 5.44l.94 2.06.94-2.06 2.06-.94-2.06-.94-.94-2.06-.94 2.06-2.06.94zm-11 1L8.5 8.5l.94-2.06 2.06-.94-2.06-.94L8.5 2.5l-.94 2.06-2.06.94zm10 10l.94 2.06.94-2.06 2.06-.94-2.06-.94-.94-2.06-.94 2.06-2.06.94z\"/><path d=\"M17.41 7.96l-1.37-1.37c-.4-.4-.92-.59-1.43-.59-.52 0-1.04.2-1.43.59L10.3 9.45l-7.72 7.72c-.78.78-.78 2.05 0 2.83L4 21.41c.39.39.9.59 1.41.59.51 0 1.02-.2 1.41-.59l7.78-7.78 2.81-2.81c.8-.78.8-2.07 0-2.86zM5.41 20L4 18.59l7.72-7.72 1.47 1.35L5.41 20z\"/>\n",
              "  </svg>\n",
              "      </button>\n",
              "      \n",
              "  <style>\n",
              "    .colab-df-container {\n",
              "      display:flex;\n",
              "      flex-wrap:wrap;\n",
              "      gap: 12px;\n",
              "    }\n",
              "\n",
              "    .colab-df-convert {\n",
              "      background-color: #E8F0FE;\n",
              "      border: none;\n",
              "      border-radius: 50%;\n",
              "      cursor: pointer;\n",
              "      display: none;\n",
              "      fill: #1967D2;\n",
              "      height: 32px;\n",
              "      padding: 0 0 0 0;\n",
              "      width: 32px;\n",
              "    }\n",
              "\n",
              "    .colab-df-convert:hover {\n",
              "      background-color: #E2EBFA;\n",
              "      box-shadow: 0px 1px 2px rgba(60, 64, 67, 0.3), 0px 1px 3px 1px rgba(60, 64, 67, 0.15);\n",
              "      fill: #174EA6;\n",
              "    }\n",
              "\n",
              "    [theme=dark] .colab-df-convert {\n",
              "      background-color: #3B4455;\n",
              "      fill: #D2E3FC;\n",
              "    }\n",
              "\n",
              "    [theme=dark] .colab-df-convert:hover {\n",
              "      background-color: #434B5C;\n",
              "      box-shadow: 0px 1px 3px 1px rgba(0, 0, 0, 0.15);\n",
              "      filter: drop-shadow(0px 1px 2px rgba(0, 0, 0, 0.3));\n",
              "      fill: #FFFFFF;\n",
              "    }\n",
              "  </style>\n",
              "\n",
              "      <script>\n",
              "        const buttonEl =\n",
              "          document.querySelector('#df-210b16f9-2bed-422c-9176-5148cbb83512 button.colab-df-convert');\n",
              "        buttonEl.style.display =\n",
              "          google.colab.kernel.accessAllowed ? 'block' : 'none';\n",
              "\n",
              "        async function convertToInteractive(key) {\n",
              "          const element = document.querySelector('#df-210b16f9-2bed-422c-9176-5148cbb83512');\n",
              "          const dataTable =\n",
              "            await google.colab.kernel.invokeFunction('convertToInteractive',\n",
              "                                                     [key], {});\n",
              "          if (!dataTable) return;\n",
              "\n",
              "          const docLinkHtml = 'Like what you see? Visit the ' +\n",
              "            '<a target=\"_blank\" href=https://colab.research.google.com/notebooks/data_table.ipynb>data table notebook</a>'\n",
              "            + ' to learn more about interactive tables.';\n",
              "          element.innerHTML = '';\n",
              "          dataTable['output_type'] = 'display_data';\n",
              "          await google.colab.output.renderOutput(dataTable, element);\n",
              "          const docLink = document.createElement('div');\n",
              "          docLink.innerHTML = docLinkHtml;\n",
              "          element.appendChild(docLink);\n",
              "        }\n",
              "      </script>\n",
              "    </div>\n",
              "  </div>\n",
              "  "
            ]
          },
          "metadata": {},
          "execution_count": 50
        }
      ]
    }
  ]
}